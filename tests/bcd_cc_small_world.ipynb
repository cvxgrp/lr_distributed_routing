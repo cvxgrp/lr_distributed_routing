{
 "cells": [
  {
   "cell_type": "code",
   "execution_count": 1,
   "id": "a81be589",
   "metadata": {},
   "outputs": [
    {
     "name": "stderr",
     "output_type": "stream",
     "text": [
      "/Users/parshakova.tanya/opt/anaconda3/envs/routing/lib/python3.9/site-packages/tqdm/auto.py:22: TqdmWarning: IProgress not found. Please update jupyter and ipywidgets. See https://ipywidgets.readthedocs.io/en/stable/user_install.html\n",
      "  from .autonotebook import tqdm as notebook_tqdm\n"
     ]
    }
   ],
   "source": [
    "import numpy as np\n",
    "import osmnx as ox\n",
    "import networkx as nx\n",
    "\n",
    "import seaborn as sns\n",
    "import matplotlib.pyplot as plt\n",
    "\n",
    "import random\n",
    "import pickle\n",
    "import pymde\n",
    "from sklearn.manifold import MDS, Isomap, TSNE, LocallyLinearEmbedding, SpectralEmbedding\n",
    "\n",
    "import mlrfit as mf\n",
    "import lrrouting as ldr\n",
    "from lrrouting import convex_concave, convex_concave_forloop, compute_lq_norm_matrix, norm_all_subgradients, norm_subgradient, obj_distortion_function\n",
    "\n",
    "import cvxpy as cp"
   ]
  },
  {
   "cell_type": "code",
   "execution_count": 2,
   "id": "4759ee57",
   "metadata": {},
   "outputs": [],
   "source": [
    "np.random.seed(1001)\n",
    "random.seed(1001)"
   ]
  },
  {
   "attachments": {},
   "cell_type": "markdown",
   "id": "573d6bef",
   "metadata": {},
   "source": [
    "#  Matrix definition"
   ]
  },
  {
   "cell_type": "code",
   "execution_count": 3,
   "id": "75f038c2",
   "metadata": {},
   "outputs": [
    {
     "name": "stdout",
     "output_type": "stream",
     "text": [
      "n=200, G.number_of_edges()=1000\n",
      "in  degrees: {0: 0, 1: 0, 2: 0, 3: 0, 4: 0, 5: 1, 6: 0, 7: 0, 8: 8, 9: 44, 10: 98, 11: 35, 12: 13, 13: 0, 14: 1}\n",
      "out degrees: {0: 0, 1: 0, 2: 0, 3: 0, 4: 0, 5: 1, 6: 0, 7: 0, 8: 8, 9: 44, 10: 98, 11: 35, 12: 13, 13: 0, 14: 1}\n"
     ]
    }
   ],
   "source": [
    "rank = 20\n",
    "\n",
    "mtype = \"small_world\"\n",
    "n = 200\n",
    "\n",
    "G = nx.connected_watts_strogatz_graph(n, k=10, p=0.1)\n",
    "G.remove_edges_from(nx.selfloop_edges(G))\n",
    "\n",
    "n = G.number_of_nodes()\n",
    "print(f\"{n=}, {G.number_of_edges()=}\")\n",
    "\n",
    "for u, v in G.edges():\n",
    "    G[u][v]['weight'] = np.random.rand() * 10\n",
    "\n",
    "Adj, Dist = ldr.nx_graph_to_matrices(G)\n",
    "A = Dist"
   ]
  },
  {
   "cell_type": "code",
   "execution_count": 4,
   "id": "aa2a0a42",
   "metadata": {},
   "outputs": [
    {
     "data": {
      "text/plain": [
       "(array([0.02066637, 0.08433458, 0.14056775, 0.05517102, 0.00273124]),\n",
       " array([ 0.        ,  3.29520811,  6.59041622,  9.88562432, 13.18083243,\n",
       "        16.47604054]))"
      ]
     },
     "execution_count": 4,
     "metadata": {},
     "output_type": "execute_result"
    }
   ],
   "source": [
    "assert nx.is_connected(G)\n",
    "np.histogram(Dist.flatten(), bins=5, density=True)"
   ]
  },
  {
   "cell_type": "code",
   "execution_count": 5,
   "id": "b6131e2a",
   "metadata": {},
   "outputs": [],
   "source": [
    "adjacency_list = ldr.adjacency_list(Adj)\n",
    "sources, targets = ldr.st_pairs(n, Dist, 1020)\n",
    "M = min(1000, sources.size)\n",
    "sources = sources[:M]\n",
    "targets = targets[:M]"
   ]
  },
  {
   "cell_type": "code",
   "execution_count": 6,
   "id": "ba8d78f5",
   "metadata": {},
   "outputs": [
    {
     "name": "stdout",
     "output_type": "stream",
     "text": [
      "symm=True\n"
     ]
    }
   ],
   "source": [
    "PSD = False\n",
    "w_min = A[A>0].min()\n",
    "rt_max_iters = min(int(5*A.max()/w_min), (10**4) // 2)\n",
    "symm = np.allclose(A, A.T)\n",
    "print(f\"{symm=}\")\n",
    "filename = \"%s_r%d_%d\"%(mtype, rank, n)"
   ]
  },
  {
   "cell_type": "code",
   "execution_count": 7,
   "id": "e27d5ed4",
   "metadata": {},
   "outputs": [
    {
     "data": {
      "text/plain": [
       "(array([0.10560921, 0.10661024, 0.09359679, 0.1026061 , 0.09209523]),\n",
       " array([9.81857711e-03, 2.00775041e+00, 4.00568224e+00, 6.00361407e+00,\n",
       "        8.00154590e+00, 9.99947774e+00]))"
      ]
     },
     "execution_count": 7,
     "metadata": {},
     "output_type": "execute_result"
    }
   ],
   "source": [
    "np.histogram(Adj[Adj>0], bins=5, density=True)"
   ]
  },
  {
   "cell_type": "code",
   "execution_count": 8,
   "id": "c1d86399",
   "metadata": {},
   "outputs": [],
   "source": [
    "info = {} "
   ]
  },
  {
   "cell_type": "markdown",
   "id": "f2dfff54",
   "metadata": {},
   "source": [
    "# $\\ell_\\infty$-norm and $\\ell_2$-norm based embeddings"
   ]
  },
  {
   "cell_type": "code",
   "execution_count": 9,
   "id": "1eedeef4",
   "metadata": {},
   "outputs": [
    {
     "name": "stderr",
     "output_type": "stream",
     "text": [
      "/Users/parshakova.tanya/opt/anaconda3/envs/routing/lib/python3.9/site-packages/cvxpy/problems/problem.py:1403: UserWarning: Solution may be inaccurate. Try another solver, adjusting the solver settings, or solve with verbose=True for more information.\n",
      "  warnings.warn(\n"
     ]
    },
    {
     "name": "stdout",
     "output_type": "stream",
     "text": [
      "PASSED\n"
     ]
    }
   ],
   "source": [
    "perm = np.random.permutation(n)\n",
    "for ord in [2, np.inf]:\n",
    "    norm_ord = lambda a: norm_subgradient(a, ord=ord)\n",
    "    X_emb = np.random.randn(n, 20)\n",
    "    for t in range(n):\n",
    "        i = perm[t]\n",
    "        g_i = np.apply_along_axis(norm_ord, 1, np.repeat(X_emb[i:i+1], n, axis=0) - X_emb)\n",
    "        x_i1, obj_i1 = convex_concave(Dist[i], i, X_emb, ord, solver=cp.CLARABEL, g_i=g_i)\n",
    "        x_i2, obj_i2 = convex_concave_forloop(Dist[i], i, X_emb, ord, solver=cp.CLARABEL, g_i=g_i)\n",
    "        assert mf.rel_diff(obj_i1, obj_i2) < 1e-6, print(t, obj_i1, obj_i2, mf.rel_diff(obj_i1, obj_i2))\n",
    "        assert mf.rel_diff(x_i1, x_i2) < 1e-3, print(t, mf.rel_diff(x_i1, x_i2))\n",
    "        if ord == 2:\n",
    "            x_i3, obj_i3 = ldr.bcd_l2_single(n, rank, i, Dist[i], X_emb, g_i=g_i)\n",
    "            assert mf.rel_diff(obj_i1, obj_i3) < 1e-6, print(t, obj_i1, obj_i3, mf.rel_diff(obj_i1, obj_i3))\n",
    "            assert mf.rel_diff(x_i1, x_i3) < 1e-3, print(t, mf.rel_diff(x_i1, x_i3))\n",
    "        X_emb[i] = x_i1\n",
    "print(\"PASSED\")"
   ]
  },
  {
   "cell_type": "code",
   "execution_count": 10,
   "id": "070d6aad",
   "metadata": {},
   "outputs": [
    {
     "name": "stdout",
     "output_type": "stream",
     "text": [
      "PASSED\n"
     ]
    }
   ],
   "source": [
    "X_emb = np.random.randn(n, 20)\n",
    "for ord in [2, np.inf]: \n",
    "    for i in range(n):\n",
    "        norm_ord = lambda a: norm_subgradient(a, ord=ord)\n",
    "        g_matrix = np.apply_along_axis(norm_ord, 1, np.repeat(X_emb[i:i+1], n, axis=0) - X_emb)\n",
    "        for j in range(n):\n",
    "            if i == j: continue\n",
    "            g_ij = norm_subgradient(X_emb[i] - X_emb[j], ord=ord)\n",
    "            assert np.allclose(g_ij, g_matrix[j])\n",
    "\n",
    "print(\"PASSED\")"
   ]
  },
  {
   "cell_type": "code",
   "execution_count": 11,
   "id": "39929692",
   "metadata": {},
   "outputs": [
    {
     "name": "stdout",
     "output_type": "stream",
     "text": [
      "PASSED\n",
      "PASSED\n"
     ]
    }
   ],
   "source": [
    "for _ in range(100):\n",
    "    for ord in [2, np.inf]:\n",
    "        a = np.random.randn(n)\n",
    "        g = norm_subgradient(a, ord=ord)\n",
    "        assert np.allclose(np.linalg.norm(g, ord=1/(1-1/ord)), 1)\n",
    "        assert np.allclose(np.linalg.norm(a, ord=ord), g.T @ (a)), print(np.linalg.norm(a, ord=ord), g.T @ (a))\n",
    "print(\"PASSED\")\n",
    "\n",
    "\n",
    "def test_lp_norm_matrix(X, ord, M1):\n",
    "    n = X.shape[0]\n",
    "    M2 = np.zeros((n, n))\n",
    "    for i in range(n):\n",
    "        for j in range(n):\n",
    "            lp_norm = np.linalg.norm(X[i] - X[j], ord=ord)\n",
    "            M2[i, j] = lp_norm\n",
    "    return np.allclose(M2, M1)\n",
    "\n",
    "\n",
    "for _ in range(10):\n",
    "    for ord in [2, 3, np.inf]:\n",
    "        x1 = np.random.randn(n, n//2)\n",
    "        d2 = compute_lq_norm_matrix(x1, ord)\n",
    "        test_lp_norm_matrix(x1, ord, d2)\n",
    "print(\"PASSED\")"
   ]
  },
  {
   "cell_type": "code",
   "execution_count": 12,
   "id": "185805b2",
   "metadata": {},
   "outputs": [],
   "source": [
    "# verify that l-infinity is a universal embedding\n",
    "D_linf = compute_lq_norm_matrix(Dist[:, :-1], np.inf)\n",
    "assert np.allclose(np.linalg.norm(D_linf - Dist, 'fro'), 0)"
   ]
  },
  {
   "cell_type": "code",
   "execution_count": 13,
   "id": "e0d30917",
   "metadata": {},
   "outputs": [],
   "source": [
    "fraction_of_nodes = 0.1\n",
    "pi = np.random.permutation(n)[:int(n * fraction_of_nodes)]"
   ]
  },
  {
   "cell_type": "code",
   "execution_count": 14,
   "id": "01458e31",
   "metadata": {},
   "outputs": [
    {
     "name": "stdout",
     "output_type": "stream",
     "text": [
      "ord=inf, distortion=55.019701911156446\n",
      "t=0, distortion=47.72758444075375\n",
      "t=50, distortion=47.15410038911772\n",
      "t=100, distortion=47.068484584132115\n",
      "t=150, distortion=47.004007800806804\n",
      "t=199, distortion=46.966952127337144\n",
      "median_stretch=739.9%, mean_stretch=1095.4%\n",
      "%[ratio<2] = 14.50%, %[ratio<1.2] = 6.60%, %[ratio=1.] = 4.50%\n",
      "ord=2, distortion=19.718254457796636\n",
      "t=0, distortion=18.838483924579446\n",
      "t=50, distortion=18.22807611879186\n",
      "t=100, distortion=18.099596138795857\n",
      "t=150, distortion=18.06557923791513\n",
      "t=199, distortion=18.05295478745643\n",
      "median_stretch=602.7%, mean_stretch=910.1%\n",
      "%[ratio<2] = 16.90%, %[ratio<1.2] = 7.80%, %[ratio=1.] = 4.70%\n"
     ]
    }
   ],
   "source": [
    "# check if the method is a descent method\n",
    "max_iter = 200\n",
    "\n",
    "for ord in [np.inf, 2]:\n",
    "    norm_ord = lambda a: norm_subgradient(a, ord=ord)\n",
    "    X_emb = np.random.randn(n, rank)\n",
    "    losses = [obj_distortion_function(Dist, X_emb, ord)]\n",
    "    print(f\"{ord=}, distortion={losses[-1]}\")\n",
    "    for t in range(max_iter):\n",
    "        for i in pi:\n",
    "            g_i = np.apply_along_axis(norm_ord, 1, np.repeat(X_emb[i:i+1], n, axis=0) - X_emb)\n",
    "            x_i, obj_i = convex_concave(Dist[i], i, X_emb, ord, solver=cp.CLARABEL, g_i=g_i)\n",
    "            losses += [obj_distortion_function(Dist, X_emb, ord)]\n",
    "            X_emb[i] = x_i\n",
    "        if t%50 == 0 or t == max_iter-1:\n",
    "            print(f\"{t=}, distortion={losses[-1]}\")\n",
    "\n",
    "    assert (np.diff(losses) < 1e-6).all(), print(\"it is not a descent method\")\n",
    "    assert X_emb.shape == (n, rank)\n",
    "    linf_dar = ldr.construct_node_embedding_graph(X_emb, adjacency_list)\n",
    "    info[\"nemb_l%s\"%str(ord)] = {'ratios' : ldr.subopt_ratios(linf_dar, Dist, sources, targets)}"
   ]
  },
  {
   "cell_type": "markdown",
   "id": "2ad3a065",
   "metadata": {},
   "source": [
    "# Classical MDS"
   ]
  },
  {
   "cell_type": "code",
   "execution_count": 15,
   "id": "c962dbfb",
   "metadata": {},
   "outputs": [
    {
     "name": "stdout",
     "output_type": "stream",
     "text": [
      "median_stretch=104.8%, mean_stretch=133.3%\n",
      "%[ratio<2] = 90.10%, %[ratio<1.2] = 64.80%, %[ratio=1.] = 40.80%\n"
     ]
    }
   ],
   "source": [
    "X_cmds, G_cmds = ldr.classical_mds((Dist + Dist.T)/2, rank)\n",
    "assert X_cmds.shape == (n, rank)\n",
    "mds_dar = ldr.construct_node_embedding_graph(X_cmds, adjacency_list)\n",
    "info['cmds'] = {'ratios' : ldr.subopt_ratios(mds_dar, Dist, sources, targets)}"
   ]
  },
  {
   "cell_type": "markdown",
   "id": "b6bd93cb",
   "metadata": {},
   "source": [
    "# MDS"
   ]
  },
  {
   "cell_type": "code",
   "execution_count": 16,
   "id": "0e2e5df0",
   "metadata": {},
   "outputs": [
    {
     "name": "stdout",
     "output_type": "stream",
     "text": [
      "median_stretch=103.8%, mean_stretch=134.0%\n",
      "%[ratio<2] = 90.80%, %[ratio<1.2] = 66.70%, %[ratio=1.] = 43.20%\n"
     ]
    }
   ],
   "source": [
    "mds = MDS(n_components=rank, metric=True, n_init=10, verbose=True, max_iter=100, dissimilarity='precomputed') \n",
    "mds_embedding = mds.fit_transform((Dist + Dist.T)/2)\n",
    "assert mds_embedding.shape == (n, rank)\n",
    "mds_dar = ldr.construct_node_embedding_graph(mds_embedding, adjacency_list)\n",
    "info['mds'] = {'ratios' : ldr.subopt_ratios(mds_dar, Dist, sources, targets)}"
   ]
  },
  {
   "attachments": {},
   "cell_type": "markdown",
   "id": "e24f6a1b",
   "metadata": {},
   "source": [
    "# Routing"
   ]
  },
  {
   "cell_type": "code",
   "execution_count": 17,
   "id": "3f34b70c",
   "metadata": {},
   "outputs": [
    {
     "name": "stdout",
     "output_type": "stream",
     "text": [
      "nemb_linf      %[ratio<1.2]=6.60%\n",
      "nemb_l2        %[ratio<1.2]=7.80%\n",
      "cmds           %[ratio<1.2]=64.80%\n",
      "mds            %[ratio<1.2]=66.70%\n"
     ]
    }
   ],
   "source": [
    "frac = 1.2\n",
    "for method in info.keys():\n",
    "    rats = 100.*(info[method]['ratios'] <= frac + 1e-8).sum() / info[method]['ratios'].size\n",
    "    print(f\"{method:12s}   %[ratio<{frac}]={rats:.2f}%\")"
   ]
  },
  {
   "cell_type": "code",
   "execution_count": 18,
   "id": "f88ce610",
   "metadata": {},
   "outputs": [],
   "source": [
    "# ldr.plot_cdf_algo_subopt_ratio(info, title=f\"{mtype}, {rank=}\")"
   ]
  },
  {
   "cell_type": "code",
   "execution_count": 19,
   "id": "d98e1d78",
   "metadata": {},
   "outputs": [
    {
     "name": "stdout",
     "output_type": "stream",
     "text": [
      "median_stretch=100.0%, mean_stretch=100.0%\n",
      "%[ratio<2] = 100.00%, %[ratio<1.2] = 100.00%, %[ratio=1.] = 100.00%\n"
     ]
    }
   ],
   "source": [
    "_ = ldr.subopt_ratios_mtrx(Dist, adjacency_list, Adj, Dist, sources, targets, rt_max_iters)"
   ]
  },
  {
   "cell_type": "code",
   "execution_count": 20,
   "id": "ad1a78cd",
   "metadata": {},
   "outputs": [
    {
     "name": "stdout",
     "output_type": "stream",
     "text": [
      "PASSED\n"
     ]
    }
   ],
   "source": [
    "for (s, t) in zip(sources, targets):\n",
    "    route_lr, w_lr = mds_dar.route(s, t)\n",
    "    assert ldr.valid_path(route_lr, w_lr, adjacency_list, s, t)\n",
    "print(\"PASSED\")"
   ]
  },
  {
   "cell_type": "code",
   "execution_count": 21,
   "id": "a912214d",
   "metadata": {},
   "outputs": [],
   "source": [
    "s = 50; t = 20\n",
    "route_lr, w_lr = mds_dar.route(s, t)\n",
    "assert ldr.valid_path(route_lr, w_lr, adjacency_list, s, t)"
   ]
  },
  {
   "cell_type": "code",
   "execution_count": null,
   "id": "4818ef0b",
   "metadata": {},
   "outputs": [],
   "source": []
  }
 ],
 "metadata": {
  "kernelspec": {
   "display_name": "Python 3 (ipykernel)",
   "language": "python",
   "name": "python3"
  },
  "language_info": {
   "codemirror_mode": {
    "name": "ipython",
    "version": 3
   },
   "file_extension": ".py",
   "mimetype": "text/x-python",
   "name": "python",
   "nbconvert_exporter": "python",
   "pygments_lexer": "ipython3",
   "version": "3.9.16"
  },
  "vscode": {
   "interpreter": {
    "hash": "cbb24b48ae2642bb0fe3c3a73dd180d2cf6b4e8df7de3f3850c06f8dd008ecd7"
   }
  }
 },
 "nbformat": 4,
 "nbformat_minor": 5
}
