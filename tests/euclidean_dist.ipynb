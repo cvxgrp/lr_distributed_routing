{
 "cells": [
  {
   "cell_type": "code",
   "execution_count": 1,
   "id": "a81be589",
   "metadata": {},
   "outputs": [
    {
     "name": "stderr",
     "output_type": "stream",
     "text": [
      "/Users/parshakova.tanya/opt/anaconda3/envs/routing/lib/python3.9/site-packages/tqdm/auto.py:22: TqdmWarning: IProgress not found. Please update jupyter and ipywidgets. See https://ipywidgets.readthedocs.io/en/stable/user_install.html\n",
      "  from .autonotebook import tqdm as notebook_tqdm\n"
     ]
    }
   ],
   "source": [
    "import numpy as np\n",
    "import osmnx as ox\n",
    "import networkx as nx\n",
    "\n",
    "import seaborn as sns\n",
    "import matplotlib.pyplot as plt\n",
    "\n",
    "import random\n",
    "import pickle\n",
    "import pymde\n",
    "from scipy.sparse.linalg import eigsh\n",
    "from sklearn.manifold import MDS \n",
    "\n",
    "import mlrfit as mf\n",
    "import lrrouting as ldr"
   ]
  },
  {
   "cell_type": "code",
   "execution_count": 2,
   "id": "4759ee57",
   "metadata": {},
   "outputs": [],
   "source": [
    "np.random.seed(1001)\n",
    "random.seed(1001)"
   ]
  },
  {
   "attachments": {},
   "cell_type": "markdown",
   "id": "573d6bef",
   "metadata": {},
   "source": [
    "#  Matrix definition"
   ]
  },
  {
   "cell_type": "code",
   "execution_count": 3,
   "id": "b435696c",
   "metadata": {},
   "outputs": [],
   "source": [
    "n = 1000\n",
    "dim = 50\n",
    "\n",
    "rank = dim\n",
    "\n",
    "X = np.random.randn(n, dim)\n",
    "# X -= np.ones((n, 1)) @ X.sum(axis=0).reshape(1, -1) / n\n",
    "# assert np.allclose(X.sum(axis=0), np.zeros(dim))\n",
    "\n",
    "Dist, Dist_sq = ldr.eulidean_dist_matrix(X)"
   ]
  },
  {
   "cell_type": "markdown",
   "id": "7d41747e",
   "metadata": {},
   "source": [
    "# Classical MDS"
   ]
  },
  {
   "cell_type": "code",
   "execution_count": 4,
   "id": "d5d181c4",
   "metadata": {},
   "outputs": [
    {
     "name": "stderr",
     "output_type": "stream",
     "text": [
      "/Users/parshakova.tanya/opt/anaconda3/envs/routing/lib/python3.9/site-packages/scipy/sparse/linalg/_eigen/arpack/arpack.py:1600: RuntimeWarning: k >= N for N * N square matrix. Attempting to use scipy.linalg.eigh instead.\n",
      "  warnings.warn(\"k >= N for N * N square matrix. \"\n"
     ]
    }
   ],
   "source": [
    "X_cmds, G_cmds = ldr.classical_mds(Dist, n)\n",
    "\n",
    "assert np.allclose(X_cmds @ X_cmds.T, G_cmds)"
   ]
  },
  {
   "cell_type": "code",
   "execution_count": 5,
   "id": "52fdf98a",
   "metadata": {},
   "outputs": [],
   "source": [
    "X_cmds, G_cmds = ldr.classical_mds(Dist, rank)\n",
    "assert X_cmds.shape == (n, rank)"
   ]
  },
  {
   "cell_type": "code",
   "execution_count": 6,
   "id": "b475debd",
   "metadata": {},
   "outputs": [
    {
     "data": {
      "text/plain": [
       "2.2084469132446001e-16"
      ]
     },
     "execution_count": 6,
     "metadata": {},
     "output_type": "execute_result"
    }
   ],
   "source": [
    "D_cmds, D_cmds_sq = ldr.eulidean_dist_matrix(X_cmds)\n",
    "mf.rel_diff(D_cmds, Dist)"
   ]
  },
  {
   "cell_type": "markdown",
   "id": "b6bd93cb",
   "metadata": {},
   "source": [
    "# MDS"
   ]
  },
  {
   "cell_type": "code",
   "execution_count": 7,
   "id": "0e2e5df0",
   "metadata": {},
   "outputs": [],
   "source": [
    "mds = MDS(n_components=rank, metric=True, max_iter=3000, dissimilarity='precomputed') \n",
    "X_mds = mds.fit_transform(Dist)\n",
    "\n",
    "\n",
    "D_mds, D_mds_sq = ldr.eulidean_dist_matrix(X_mds)"
   ]
  },
  {
   "cell_type": "code",
   "execution_count": 8,
   "id": "c2978123",
   "metadata": {},
   "outputs": [
    {
     "data": {
      "text/plain": [
       "0.0031442658502436552"
      ]
     },
     "execution_count": 8,
     "metadata": {},
     "output_type": "execute_result"
    }
   ],
   "source": [
    "mf.rel_diff(D_mds, Dist)"
   ]
  },
  {
   "cell_type": "code",
   "execution_count": 9,
   "id": "54350121",
   "metadata": {},
   "outputs": [],
   "source": [
    "assert X_mds.shape == (n, rank)"
   ]
  },
  {
   "cell_type": "markdown",
   "id": "21bb7a63",
   "metadata": {},
   "source": [
    "# Fast $\\ell_2$ implementation"
   ]
  },
  {
   "cell_type": "code",
   "execution_count": 10,
   "id": "6fe11ea7",
   "metadata": {},
   "outputs": [
    {
     "name": "stderr",
     "output_type": "stream",
     "text": [
      "OMP: Info #276: omp_set_nested routine deprecated, please use omp_set_max_active_levels instead.\n"
     ]
    },
    {
     "name": "stdout",
     "output_type": "stream",
     "text": [
      "t=0, loss=3.9011745411508434\n",
      "t=500, loss=0.055425164041466926\n",
      "t=1000, loss=0.005717794048081303\n",
      "t=1500, loss=1.8526871964351338e-05\n",
      "loss=5.999731247081533e-08, np.diff(np.array(losses)).max()=-6.723844515997825e-10\n"
     ]
    }
   ],
   "source": [
    "Z, loss, losses = ldr.fast_cc(rank, pi_rows=np.arange(n), pi_rows_c=np.array([], dtype=np.int64), rDist=Dist, symm=True, n_init=5,\n",
    "                   max_iter=2000, eps=1e-6, verbose=True, freq=500)"
   ]
  },
  {
   "cell_type": "code",
   "execution_count": 11,
   "id": "04c3750a",
   "metadata": {},
   "outputs": [
    {
     "data": {
      "text/plain": [
       "1.7171372837270025e-05"
      ]
     },
     "execution_count": 11,
     "metadata": {},
     "output_type": "execute_result"
    }
   ],
   "source": [
    "D_mds, D_mds_sq = ldr.eulidean_dist_matrix(Z)\n",
    "mf.rel_diff(D_mds, Dist)"
   ]
  }
 ],
 "metadata": {
  "kernelspec": {
   "display_name": "Python 3 (ipykernel)",
   "language": "python",
   "name": "python3"
  },
  "language_info": {
   "codemirror_mode": {
    "name": "ipython",
    "version": 3
   },
   "file_extension": ".py",
   "mimetype": "text/x-python",
   "name": "python",
   "nbconvert_exporter": "python",
   "pygments_lexer": "ipython3",
   "version": "3.9.16"
  },
  "vscode": {
   "interpreter": {
    "hash": "cbb24b48ae2642bb0fe3c3a73dd180d2cf6b4e8df7de3f3850c06f8dd008ecd7"
   }
  }
 },
 "nbformat": 4,
 "nbformat_minor": 5
}
