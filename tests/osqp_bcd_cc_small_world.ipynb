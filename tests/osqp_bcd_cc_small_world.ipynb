{
 "cells": [
  {
   "cell_type": "code",
   "execution_count": 1,
   "id": "a81be589",
   "metadata": {},
   "outputs": [
    {
     "name": "stderr",
     "output_type": "stream",
     "text": [
      "/Users/parshakova.tanya/opt/anaconda3/envs/routing/lib/python3.9/site-packages/tqdm/auto.py:22: TqdmWarning: IProgress not found. Please update jupyter and ipywidgets. See https://ipywidgets.readthedocs.io/en/stable/user_install.html\n",
      "  from .autonotebook import tqdm as notebook_tqdm\n"
     ]
    }
   ],
   "source": [
    "import numpy as np\n",
    "import osmnx as ox\n",
    "import networkx as nx\n",
    "\n",
    "import seaborn as sns\n",
    "import matplotlib.pyplot as plt\n",
    "\n",
    "import random\n",
    "import pickle\n",
    "import pymde\n",
    "from sklearn.manifold import MDS, Isomap, TSNE, LocallyLinearEmbedding, SpectralEmbedding\n",
    "\n",
    "import osqp\n",
    "import mlrfit as mf\n",
    "import lrrouting as ldr\n",
    "from scipy import sparse\n",
    "\n",
    "import cvxpy as cp\n",
    "import time "
   ]
  },
  {
   "cell_type": "code",
   "execution_count": 2,
   "id": "4759ee57",
   "metadata": {},
   "outputs": [],
   "source": [
    "np.random.seed(1001)\n",
    "random.seed(1001)"
   ]
  },
  {
   "attachments": {},
   "cell_type": "markdown",
   "id": "573d6bef",
   "metadata": {},
   "source": [
    "#  Matrix definition"
   ]
  },
  {
   "cell_type": "code",
   "execution_count": 3,
   "id": "75f038c2",
   "metadata": {},
   "outputs": [
    {
     "name": "stdout",
     "output_type": "stream",
     "text": [
      "n=1000, G.number_of_edges()=5000\n",
      "in  degrees: {0: 0, 1: 0, 2: 0, 3: 0, 4: 0, 5: 0, 6: 2, 7: 5, 8: 46, 9: 237, 10: 448, 11: 190, 12: 56, 13: 14, 14: 2}\n",
      "out degrees: {0: 0, 1: 0, 2: 0, 3: 0, 4: 0, 5: 0, 6: 2, 7: 5, 8: 46, 9: 237, 10: 448, 11: 190, 12: 56, 13: 14, 14: 2}\n"
     ]
    }
   ],
   "source": [
    "rank = 20\n",
    "\n",
    "mtype = \"small_world\"\n",
    "n = 1000\n",
    "\n",
    "G = nx.connected_watts_strogatz_graph(n, k=10, p=0.1)\n",
    "G.remove_edges_from(nx.selfloop_edges(G))\n",
    "\n",
    "n = G.number_of_nodes()\n",
    "print(f\"{n=}, {G.number_of_edges()=}\")\n",
    "\n",
    "for u, v in G.edges():\n",
    "    G[u][v]['weight'] = np.random.rand() * 10\n",
    "\n",
    "Adj, Dist = ldr.nx_graph_to_matrices(G)\n",
    "A = Dist"
   ]
  },
  {
   "cell_type": "code",
   "execution_count": 4,
   "id": "aa2a0a42",
   "metadata": {},
   "outputs": [
    {
     "data": {
      "text/plain": [
       "(array([8.73485171e-03, 7.97163579e-02, 1.01414309e-01, 8.86130545e-03,\n",
       "        9.98109705e-05]),\n",
       " array([ 0.        ,  5.02950725, 10.0590145 , 15.08852175, 20.118029  ,\n",
       "        25.14753626]))"
      ]
     },
     "execution_count": 4,
     "metadata": {},
     "output_type": "execute_result"
    }
   ],
   "source": [
    "assert nx.is_connected(G)\n",
    "np.histogram(Dist.flatten(), bins=5, density=True)"
   ]
  },
  {
   "cell_type": "code",
   "execution_count": 5,
   "id": "b6131e2a",
   "metadata": {},
   "outputs": [],
   "source": [
    "adjacency_list = ldr.adjacency_list(Adj)\n",
    "sources, targets = ldr.st_pairs(n, Dist, 1020)\n",
    "M = min(1000, sources.size)\n",
    "sources = sources[:M]\n",
    "targets = targets[:M]"
   ]
  },
  {
   "cell_type": "code",
   "execution_count": 6,
   "id": "ba8d78f5",
   "metadata": {},
   "outputs": [
    {
     "name": "stdout",
     "output_type": "stream",
     "text": [
      "symm=True\n"
     ]
    }
   ],
   "source": [
    "PSD = False\n",
    "w_min = A[A>0].min()\n",
    "rt_max_iters = min(int(5*A.max()/w_min), (10**4) // 2)\n",
    "symm = np.allclose(A, A.T)\n",
    "print(f\"{symm=}\")\n",
    "filename = \"%s_r%d_%d\"%(mtype, rank, n)"
   ]
  },
  {
   "cell_type": "code",
   "execution_count": 7,
   "id": "e27d5ed4",
   "metadata": {},
   "outputs": [
    {
     "data": {
      "text/plain": [
       "(array([0.10261409, 0.09671328, 0.09551311, 0.10411429, 0.10111388]),\n",
       " array([8.50688893e-04, 2.00057610e+00, 4.00030151e+00, 6.00002692e+00,\n",
       "        7.99975233e+00, 9.99947774e+00]))"
      ]
     },
     "execution_count": 7,
     "metadata": {},
     "output_type": "execute_result"
    }
   ],
   "source": [
    "np.histogram(Adj[Adj>0], bins=5, density=True)"
   ]
  },
  {
   "cell_type": "code",
   "execution_count": 8,
   "id": "e0d30917",
   "metadata": {},
   "outputs": [],
   "source": [
    "fraction_of_nodes = 0.1\n",
    "pi = np.random.permutation(n)[:int(n * fraction_of_nodes)]"
   ]
  },
  {
   "cell_type": "code",
   "execution_count": 9,
   "id": "c1d86399",
   "metadata": {},
   "outputs": [],
   "source": [
    "info = {} "
   ]
  },
  {
   "cell_type": "markdown",
   "id": "f2dfff54",
   "metadata": {},
   "source": [
    "# $\\ell_2$-norm based embeddings"
   ]
  },
  {
   "cell_type": "code",
   "execution_count": 10,
   "id": "01458e31",
   "metadata": {},
   "outputs": [
    {
     "name": "stdout",
     "output_type": "stream",
     "text": [
      "ord=2, distortion=52.20712737340071\n"
     ]
    },
    {
     "name": "stderr",
     "output_type": "stream",
     "text": [
      "/Users/parshakova.tanya/opt/anaconda3/envs/routing/lib/python3.9/site-packages/cvxpy/problems/problem.py:1403: UserWarning: Solution may be inaccurate. Try another solver, adjusting the solver settings, or solve with verbose=True for more information.\n",
      "  warnings.warn(\n"
     ]
    },
    {
     "name": "stdout",
     "output_type": "stream",
     "text": [
      "t=0, distortion=47.00816872229839, cycle_time=33.4904510974884\n",
      "t=9, distortion=45.35077310176677, cycle_time=34.31567311286926\n",
      "median_stretch=2700.8%, mean_stretch=3808.1%\n",
      "%[ratio<2] = 5.60%, %[ratio<1.2] = 3.10%, %[ratio=1.] = 1.80%\n"
     ]
    }
   ],
   "source": [
    "# check if the method is a block coordinate descent \n",
    "max_iter = 10\n",
    "\n",
    "durations_l2 = {\"gi\":[], \"bcd\":[], \"cycle\":[]}\n",
    "for ord in [2]:\n",
    "    norm_ord = lambda a: ldr.norm_subgradient(a, ord=ord)\n",
    "    X_emb = np.random.randn(n, rank)\n",
    "    losses = [ldr.obj_distortion_function(Dist, X_emb, ord)]\n",
    "    print(f\"{ord=}, distortion={losses[-1]}\")\n",
    "    for t in range(max_iter):\n",
    "        start_cycle_time = time.time()\n",
    "        for i in pi:\n",
    "            start = time.time()\n",
    "            Dist_i = Dist[i]\n",
    "            g_i = np.apply_along_axis(norm_ord, 1, np.repeat(X_emb[i:i+1], n, axis=0) - X_emb)\n",
    "            durations_l2[\"gi\"] += [time.time() - start]\n",
    "            start = time.time()\n",
    "            x_i, obj_i = ldr.convex_concave(Dist_i, i, X_emb, ord, solver=cp.CLARABEL, g_i=g_i)\n",
    "            durations_l2[\"bcd\"] += [time.time() - start]\n",
    "            x_i2, obj_i2 = ldr.bcd_l2_single(n, rank, i, Dist_i, X_emb, g_i)\n",
    "            assert np.allclose(obj_i, obj_i2), print(f\"{obj_i=}, {obj_i2=}\")\n",
    "\n",
    "            losses += [ldr.obj_distortion_function(Dist, X_emb, ord)]\n",
    "            X_emb[i] = x_i\n",
    "        durations_l2[\"cycle\"] += [time.time()-start_cycle_time]\n",
    "        if t%10 == 0 or t == max_iter-1:\n",
    "            print(f\"{t=}, distortion={losses[-1]}, cycle_time={time.time()-start_cycle_time}\")\n",
    "\n",
    "    assert (np.diff(losses) < 1e-6).all(), print(\"it is not a descent method\")\n",
    "    assert X_emb.shape == (n, rank)\n",
    "    linf_dar = ldr.construct_node_embedding_graph(X_emb, adjacency_list)\n",
    "    info[\"nemb_l%s\"%str(ord)] = {'ratios' : ldr.subopt_ratios(linf_dar, Dist, sources, targets)}"
   ]
  },
  {
   "cell_type": "code",
   "execution_count": 11,
   "id": "7a005178",
   "metadata": {},
   "outputs": [
    {
     "name": "stdout",
     "output_type": "stream",
     "text": [
      "gi, 0.005502525091171264+/-0.0008349427259771\n",
      "bcd, 0.20742909693717956+/-0.013215156129425252\n",
      "cycle, 34.55622508525848+/-0.8292628584784719\n"
     ]
    }
   ],
   "source": [
    "for k, val in durations_l2.items():\n",
    "    print(f\"{k}, {np.mean(np.array(val))}+/-{np.std(np.array(val))}\")"
   ]
  },
  {
   "cell_type": "code",
   "execution_count": 12,
   "id": "e2090a5e",
   "metadata": {},
   "outputs": [
    {
     "name": "stdout",
     "output_type": "stream",
     "text": [
      "1.24 ms ± 69.2 µs per loop (mean ± std. dev. of 7 runs, 1,000 loops each)\n"
     ]
    }
   ],
   "source": [
    "%timeit ldr.bcd_l2_single(n, rank, i, Dist_i, X_emb, g_i)"
   ]
  },
  {
   "cell_type": "code",
   "execution_count": 13,
   "id": "c4e8777b",
   "metadata": {},
   "outputs": [
    {
     "name": "stdout",
     "output_type": "stream",
     "text": [
      "205 ms ± 3.19 ms per loop (mean ± std. dev. of 7 runs, 1 loop each)\n"
     ]
    }
   ],
   "source": [
    "%timeit ldr.convex_concave(Dist_i, i, X_emb, ord, solver=cp.CLARABEL, g_i=g_i)"
   ]
  },
  {
   "cell_type": "markdown",
   "id": "5fcf7b5a",
   "metadata": {},
   "source": [
    "# $\\ell_\\infty$-norm based embeddings"
   ]
  },
  {
   "cell_type": "code",
   "execution_count": 14,
   "id": "cdb6413d",
   "metadata": {},
   "outputs": [
    {
     "name": "stdout",
     "output_type": "stream",
     "text": [
      "ord=inf, distortion=124.28777305097695\n",
      "t=0, distortion=104.98890516017494, cycle_time=156.69867491722107\n",
      "t=1, distortion=104.63253218900468, cycle_time=147.84865379333496\n",
      "median_stretch=2527.6%, mean_stretch=3880.4%\n",
      "%[ratio<2] = 5.20%, %[ratio<1.2] = 2.70%, %[ratio=1.] = 1.60%\n"
     ]
    }
   ],
   "source": [
    "# compare CVXPY + Clarabel vs calling directly OSQP solver\n",
    "max_iter = 2\n",
    "durations_linf = {\"gi\":[], \"osqp\":[], \"cvxpy\":[], \"cycle\":[]}\n",
    "for ord in [np.inf]:\n",
    "    norm_ord = lambda a: ldr.norm_subgradient(a, ord=ord)\n",
    "    X_emb = np.random.randn(n, rank)\n",
    "    losses = [ldr.obj_distortion_function(Dist, X_emb, ord)]\n",
    "    print(f\"{ord=}, distortion={losses[-1]}\")\n",
    "    P, M0 = ldr.matrices_bcd_linf_single(n, rank)\n",
    "    for t in range(max_iter):\n",
    "        start_cycle_time = time.time()\n",
    "        for i in pi:\n",
    "            Dist_i = Dist[i]\n",
    "            start = time.time()\n",
    "            g_i = np.apply_along_axis(norm_ord, 1, np.repeat(X_emb[i:i+1], n, axis=0) - X_emb)\n",
    "            durations_linf[\"gi\"] += [time.time() - start]\n",
    "            start = time.time()\n",
    "            x_i, obj_i = ldr.convex_concave(Dist_i, i, X_emb, ord, solver=cp.CLARABEL, g_i=g_i)\n",
    "            durations_linf[\"cvxpy\"] += [time.time() - start]\n",
    "            start = time.time()\n",
    "            x_i2, obj_i2 = ldr.bcd_linf_single(n, rank, i, Dist_i, X_emb, g_i, M0, eps_abs=1e-3, eps_rel=1e-3, max_iter=4000)\n",
    "            durations_linf[\"osqp\"] += [time.time() - start]\n",
    "\n",
    "            losses += [ldr.obj_distortion_function(Dist, X_emb, ord)]\n",
    "            X_emb[i] = x_i\n",
    "        durations_linf[\"cycle\"] += [time.time()-start_cycle_time]\n",
    "        if t%1 == 0 or t == max_iter-1:\n",
    "            print(f\"{t=}, distortion={losses[-1]}, cycle_time={time.time()-start_cycle_time}\")\n",
    "\n",
    "    assert (np.diff(losses) < 1e-6).all(), print(\"it is not a descent method\")\n",
    "    assert X_emb.shape == (n, rank)\n",
    "    linf_dar = ldr.construct_node_embedding_graph(X_emb, adjacency_list)\n",
    "    info[\"nemb_l%s\"%str(ord)] = {'ratios' : ldr.subopt_ratios(linf_dar, Dist, sources, targets)}"
   ]
  },
  {
   "cell_type": "code",
   "execution_count": 15,
   "id": "fd1eac54",
   "metadata": {},
   "outputs": [
    {
     "name": "stdout",
     "output_type": "stream",
     "text": [
      "gi, 0.003687340021133423+/-0.0007986835126807514\n",
      "osqp, 0.8440155684947968+/-0.2879381610682616\n",
      "cvxpy, 0.495924813747406+/-0.03595807217873438\n",
      "cycle, 152.2736474275589+/-4.425012469291687\n"
     ]
    }
   ],
   "source": [
    "for k, val in durations_linf.items():\n",
    "    print(f\"{k}, {np.mean(np.array(val))}+/-{np.std(np.array(val))}\")"
   ]
  },
  {
   "cell_type": "code",
   "execution_count": 16,
   "id": "f380cb38",
   "metadata": {},
   "outputs": [
    {
     "data": {
      "text/plain": [
       "82.58614993970585"
      ]
     },
     "execution_count": 16,
     "metadata": {},
     "output_type": "execute_result"
    }
   ],
   "source": [
    "233*(0.0057397+0.73)/(0.0057397+1.34+0.73)"
   ]
  },
  {
   "cell_type": "code",
   "execution_count": 17,
   "id": "d0470ae8",
   "metadata": {},
   "outputs": [
    {
     "name": "stdout",
     "output_type": "stream",
     "text": [
      "182 ms ± 15.7 ms per loop (mean ± std. dev. of 7 runs, 1 loop each)\n"
     ]
    }
   ],
   "source": [
    "%timeit ldr.obj_distortion_function(Dist, X_emb, ord)"
   ]
  },
  {
   "cell_type": "code",
   "execution_count": 18,
   "id": "0827f172",
   "metadata": {},
   "outputs": [
    {
     "name": "stdout",
     "output_type": "stream",
     "text": [
      "845 ms ± 4.21 ms per loop (mean ± std. dev. of 7 runs, 1 loop each)\n"
     ]
    }
   ],
   "source": [
    "%timeit ldr.bcd_linf_single(n, rank, i, Dist_i, X_emb, g_i, M0)"
   ]
  },
  {
   "cell_type": "code",
   "execution_count": 19,
   "id": "838c6e19",
   "metadata": {},
   "outputs": [
    {
     "name": "stdout",
     "output_type": "stream",
     "text": [
      "490 ms ± 5.61 ms per loop (mean ± std. dev. of 7 runs, 1 loop each)\n"
     ]
    }
   ],
   "source": [
    "%timeit ldr.convex_concave(Dist_i, i, X_emb, ord=np.inf, solver=cp.CLARABEL, g_i=g_i)"
   ]
  },
  {
   "cell_type": "code",
   "execution_count": 20,
   "id": "d19d347d",
   "metadata": {},
   "outputs": [
    {
     "data": {
      "text/plain": [
       "1156.9506726457398"
      ]
     },
     "execution_count": 20,
     "metadata": {},
     "output_type": "execute_result"
    }
   ],
   "source": [
    "258/0.223"
   ]
  },
  {
   "cell_type": "code",
   "execution_count": null,
   "id": "3b21f216",
   "metadata": {},
   "outputs": [],
   "source": []
  },
  {
   "cell_type": "code",
   "execution_count": 21,
   "id": "813edbf8",
   "metadata": {},
   "outputs": [
    {
     "name": "stdout",
     "output_type": "stream",
     "text": [
      "PASSED\n"
     ]
    }
   ],
   "source": [
    "M = []\n",
    "for j in range(n):\n",
    "    e_j = np.zeros(n)\n",
    "    e_j[j] = 1\n",
    "    ones_e_j = sparse.coo_array(np.tile(e_j, (rank, 1)))\n",
    "    block = sparse.bmat([[-ones_e_j, sparse.eye(rank)],\n",
    "                        [ones_e_j, sparse.eye(rank)]], format='csc')\n",
    "    M += [block]\n",
    "M1 = sparse.vstack(M, format='csc')\n",
    "\n",
    "\n",
    "M = []\n",
    "for j in range(n):\n",
    "    ones_e_j = np.zeros((rank, n))\n",
    "    ones_e_j[:, j] = 1\n",
    "    block = np.block([[-ones_e_j, np.eye(rank)],\n",
    "                        [ones_e_j, np.eye(rank)]],)\n",
    "    M += [block]\n",
    "M = np.concatenate(M, axis=0)\n",
    "M2 = sparse.csc_matrix(M)\n",
    "assert np.allclose(M1.toarray(), M2.toarray())\n",
    "print(\"PASSED\")"
   ]
  },
  {
   "cell_type": "code",
   "execution_count": 22,
   "id": "0e2e5df0",
   "metadata": {},
   "outputs": [
    {
     "name": "stdout",
     "output_type": "stream",
     "text": [
      "PASSED\n"
     ]
    }
   ],
   "source": [
    "for _ in range(10):\n",
    "    X_emb = np.random.randn(n, rank)\n",
    "    u, l = [], []\n",
    "    for j in range(n):\n",
    "        u += [X_emb[j], np.inf * np.ones(rank)]\n",
    "        l += [-np.inf * np.ones(rank), X_emb[j]]\n",
    "    u += [np.zeros(1)]\n",
    "    l += [np.zeros(1)]\n",
    "    u0 = np.concatenate(u, axis=0)\n",
    "    l0 = np.concatenate(l, axis=0)\n",
    "\n",
    "    u = np.concatenate([X_emb, np.full((n,rank ), np.inf)], axis=1).flatten(order='C')\n",
    "    l = np.concatenate([np.full((n,rank ), -np.inf), X_emb], axis=1).flatten(order='C')\n",
    "    u = np.concatenate([u, np.zeros(1)], axis=0)\n",
    "    l = np.concatenate([l, np.zeros(1)], axis=0)\n",
    "    assert np.allclose(u0, u) and np.allclose(l0, l)\n",
    "print(\"PASSED\")"
   ]
  },
  {
   "cell_type": "code",
   "execution_count": 23,
   "id": "398d528f",
   "metadata": {},
   "outputs": [],
   "source": [
    "X_emb = np.random.randn(n, rank)\n",
    "i = 20\n",
    "norm_ord = lambda a: ldr.norm_subgradient(a, ord=2)\n",
    "g_i = np.apply_along_axis(norm_ord, 1, np.repeat(X_emb[i:i+1], n, axis=0) - X_emb)\n",
    "assert np.allclose(Dist[i][:, np.newaxis] * g_i, np.diag(Dist[i]) @ g_i)"
   ]
  }
 ],
 "metadata": {
  "kernelspec": {
   "display_name": "Python 3 (ipykernel)",
   "language": "python",
   "name": "python3"
  },
  "language_info": {
   "codemirror_mode": {
    "name": "ipython",
    "version": 3
   },
   "file_extension": ".py",
   "mimetype": "text/x-python",
   "name": "python",
   "nbconvert_exporter": "python",
   "pygments_lexer": "ipython3",
   "version": "3.9.16"
  },
  "vscode": {
   "interpreter": {
    "hash": "cbb24b48ae2642bb0fe3c3a73dd180d2cf6b4e8df7de3f3850c06f8dd008ecd7"
   }
  }
 },
 "nbformat": 4,
 "nbformat_minor": 5
}
