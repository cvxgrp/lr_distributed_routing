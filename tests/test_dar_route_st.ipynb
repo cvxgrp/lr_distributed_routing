{
 "cells": [
  {
   "cell_type": "code",
   "execution_count": 1,
   "metadata": {},
   "outputs": [
    {
     "name": "stderr",
     "output_type": "stream",
     "text": [
      "/Users/parshakova.tanya/opt/anaconda3/envs/routing/lib/python3.9/site-packages/tqdm/auto.py:22: TqdmWarning: IProgress not found. Please update jupyter and ipywidgets. See https://ipywidgets.readthedocs.io/en/stable/user_install.html\n",
      "  from .autonotebook import tqdm as notebook_tqdm\n"
     ]
    }
   ],
   "source": [
    "import numpy as np\n",
    "import osmnx as ox\n",
    "import networkx as nx\n",
    "\n",
    "import seaborn as sns\n",
    "import matplotlib.pyplot as plt\n",
    "\n",
    "import random\n",
    "import pickle\n",
    "\n",
    "import mlrfit as mf\n",
    "import lrrouting as ldr"
   ]
  },
  {
   "cell_type": "code",
   "execution_count": 2,
   "metadata": {},
   "outputs": [
    {
     "name": "stdout",
     "output_type": "stream",
     "text": [
      "[1000]\n",
      "n_cc = 1000, n0 = 1000\n",
      "in  degrees: {0: 0, 1: 0, 2: 0, 3: 0, 4: 0, 5: 0, 6: 0, 7: 0, 8: 0, 9: 0, 10: 0, 11: 0, 12: 0, 13: 0, 14: 0, 15: 0, 16: 0, 17: 0, 18: 0, 19: 0, 20: 0, 21: 0, 22: 0, 23: 0, 24: 0, 25: 0, 26: 0, 27: 0, 28: 1, 29: 1, 30: 1, 31: 2, 32: 1, 33: 4, 34: 5, 35: 0, 36: 4, 37: 11, 38: 16, 39: 16, 40: 18, 41: 15, 42: 28, 43: 30, 44: 35, 45: 51, 46: 64, 47: 51, 48: 59, 49: 62, 50: 41, 51: 66, 52: 52, 53: 57, 54: 48, 55: 34, 56: 39, 57: 49, 58: 26, 59: 24, 60: 17, 61: 13, 62: 8, 63: 13, 64: 9, 65: 9, 66: 8, 67: 3, 68: 3, 69: 2, 70: 2, 71: 0, 72: 2}\n",
      "out degrees: {0: 0, 1: 0, 2: 0, 3: 0, 4: 0, 5: 0, 6: 0, 7: 0, 8: 0, 9: 0, 10: 0, 11: 0, 12: 0, 13: 0, 14: 0, 15: 0, 16: 0, 17: 0, 18: 0, 19: 0, 20: 0, 21: 0, 22: 0, 23: 0, 24: 0, 25: 0, 26: 0, 27: 0, 28: 1, 29: 0, 30: 0, 31: 2, 32: 3, 33: 3, 34: 2, 35: 6, 36: 9, 37: 11, 38: 15, 39: 19, 40: 14, 41: 22, 42: 26, 43: 32, 44: 38, 45: 38, 46: 54, 47: 51, 48: 63, 49: 48, 50: 60, 51: 58, 52: 54, 53: 43, 54: 49, 55: 40, 56: 43, 57: 40, 58: 41, 59: 26, 60: 25, 61: 13, 62: 13, 63: 9, 64: 7, 65: 6, 66: 6, 67: 3, 68: 2, 69: 1, 70: 0, 71: 1, 72: 1, 73: 1, 74: 1}\n",
      "n=1000, G.number_of_nodes()=1000, G.number_of_edges()=50261\n",
      "[903, 15, 1, 1, 1, 1, 1, 1, 1, 1, 1, 1, 1, 1, 1]\n",
      "n_cc = 903, n0 = 931\n",
      "in  degrees: {0: 0, 1: 266, 2: 92, 3: 477, 4: 66, 5: 2}\n",
      "out degrees: {0: 0, 1: 262, 2: 102, 3: 469, 4: 68, 5: 2}\n",
      "903 67.0 1.0 2155\n"
     ]
    }
   ],
   "source": [
    "rank = 35\n",
    "n = 1000\n",
    "\n",
    "G = nx.fast_gnp_random_graph(n, p=0.05, directed=True)\n",
    "Adj, Dist, nodes_cc = ldr.nx_graph_to_matrices(G, nodes=True)\n",
    "adjacency_list = ldr.adjacency_directed_list(Adj)\n",
    "diam_G = Dist.max()\n",
    "w_min = Dist[Dist>0].min()\n",
    "m = n = len(nodes_cc)\n",
    "print(f\"{n=}, {G.number_of_nodes()=}, {G.number_of_edges()=}\")\n",
    "\n",
    "\n",
    "place = \"Pacifica, CA, USA\"\n",
    "G, Adj, Dist, nodes_cc = ldr.dist_matrix_osmnx(place, directed=True, nodes=True)\n",
    "m = n = Dist.shape[0]\n",
    "diam_G = Dist.max()\n",
    "w_min = Dist[Dist>0].min()\n",
    "print(m, diam_G, w_min, (Adj>0).sum())"
   ]
  },
  {
   "cell_type": "code",
   "execution_count": 3,
   "metadata": {},
   "outputs": [],
   "source": [
    "rt_max_iters = min(int(5*Dist.max()/w_min), (10**4) // 2)\n",
    "adjacency_list = ldr.adjacency_directed_list(Adj)\n",
    "sources, targets = ldr.st_pairs(n, Dist, 5020)\n",
    "M = min(5000, sources.size)\n",
    "sources = sources[:M]\n",
    "targets = targets[:M]\n",
    "\n",
    "PSD = False\n",
    "symm = np.allclose(Dist, Dist.T) if m==n else False\n",
    "\n",
    "hpart = mf.random_hpartition(m, n, num_levels=1, symm=symm, perm=False)\n",
    "B1, C1 = mf.single_level_factor_fit(Dist, np.array([rank]), hpart, level=0, symm=symm, PSD=PSD)[:2]\n",
    "\n",
    "lr_dar = ldr.construct_lr_graph(B1, C1, adjacency_list)\n",
    "lr_A = B1 @ C1.T"
   ]
  },
  {
   "cell_type": "code",
   "execution_count": 4,
   "metadata": {},
   "outputs": [
    {
     "name": "stdout",
     "output_type": "stream",
     "text": [
      "PASSED adjacency_list_to_matrix\n"
     ]
    }
   ],
   "source": [
    "assert np.allclose(ldr.adjacency_list_to_matrix(adjacency_list), Adj)\n",
    "print(\"PASSED adjacency_list_to_matrix\")"
   ]
  },
  {
   "cell_type": "code",
   "execution_count": 5,
   "metadata": {},
   "outputs": [],
   "source": [
    "def route_st_dar(s, t, dar, del_cycle=False, max_iters=50):\n",
    "    route = [s]\n",
    "    a = s; wpath = 0.\n",
    "    if del_cycle: \n",
    "        route, _ = dar.route_with_dfs(s=s, t=t)\n",
    "    else:\n",
    "        while len(route) < max_iters and a != t:\n",
    "            if del_cycle:\n",
    "                b_next, w_b_next = dar.next_node_del_cycles(s=s, t=t, a=a)\n",
    "            else:\n",
    "                b_next, w_b_next = dar.next_node(s=s, t=t, a=a)\n",
    "            wpath += w_b_next\n",
    "            a = b_next\n",
    "            route += [b_next]\n",
    "            if len(dar.adjacency_list[a]) == 0:\n",
    "                break\n",
    "    return route\n",
    "\n",
    "\n",
    "def route_st_matrix(s, t, func_next_node, adjacency_list):\n",
    "    route = [s]\n",
    "    max_iters = 50\n",
    "    a = s; wpath = 0.\n",
    "    while len(route) < max_iters and a != t:\n",
    "        b_next = func_next_node(s=s, t=t, a=a)\n",
    "        for b, w_ab in adjacency_list[a]:\n",
    "            if b == b_next: \n",
    "                w_a_b_next = w_ab \n",
    "                break\n",
    "        wpath += w_a_b_next\n",
    "        a = b_next\n",
    "        route += [b_next]\n",
    "        if len(adjacency_list[a]) == 0:\n",
    "            break\n",
    "    return route"
   ]
  },
  {
   "cell_type": "code",
   "execution_count": 6,
   "metadata": {},
   "outputs": [
    {
     "name": "stdout",
     "output_type": "stream",
     "text": [
      "PASSED, fraction of fully matched paths is 0.9990\n"
     ]
    }
   ],
   "source": [
    "total_matches = 0\n",
    "dist_func = lambda b,t: lr_A[b,t]\n",
    "func_next_node = ldr.next_node(dist_func, adjacency_list, Adj)\n",
    "\n",
    "for (s, t) in zip(sources, targets):\n",
    "    if s == t: continue\n",
    "    r1 = route_st_dar(s, t, lr_dar, del_cycle=False)\n",
    "    r2 = route_st_matrix(s, t, func_next_node, adjacency_list)\n",
    "    total_matches += np.allclose(r1, r2) if len(r1)==len(r2) else 0\n",
    "    for a in r1[1:]:\n",
    "        d_at1, d_at2 = np.zeros(len(adjacency_list[a])), np.zeros(len(adjacency_list[a]))\n",
    "        for idx, (b, w_b) in enumerate(adjacency_list[a]):\n",
    "            d_at1[idx] = w_b + lr_dar.dist(b, t)\n",
    "            d_at2[idx] = Adj[a, b] + dist_func(b, t)\n",
    "        assert np.allclose(d_at2, d_at1)\n",
    "        b_next1 = lr_dar.next_node(s=s, t=t, a=a)[0]\n",
    "        b_next2 = func_next_node(s=s, t=t, a=a)\n",
    "        # print(f\"{adjacency_list[a]} \\n{d_at1=} {np.argsort(d_at1)} \\n{d_at2=} {np.argsort(d_at2)}\\n\")\n",
    "        assert b_next1 == adjacency_list[a][np.argmin(d_at1)][0] \\\n",
    "                and b_next2 == adjacency_list[a][np.argmin(d_at2)][0]\n",
    "print(\"PASSED, fraction of fully matched paths is %.4f\"%( total_matches / len(sources)))"
   ]
  },
  {
   "cell_type": "code",
   "execution_count": 7,
   "metadata": {},
   "outputs": [],
   "source": [
    "import cvxpy as cp"
   ]
  },
  {
   "cell_type": "code",
   "execution_count": 8,
   "metadata": {},
   "outputs": [
    {
     "data": {
      "text/plain": [
       "'CONVEX'"
      ]
     },
     "execution_count": 8,
     "metadata": {},
     "output_type": "execute_result"
    }
   ],
   "source": [
    "x = cp.Variable(10)\n",
    "f = cp.square(cp.norm_inf(x))\n",
    "f.curvature"
   ]
  },
  {
   "cell_type": "code",
   "execution_count": 9,
   "metadata": {},
   "outputs": [
    {
     "data": {
      "text/plain": [
       "1"
      ]
     },
     "execution_count": 9,
     "metadata": {},
     "output_type": "execute_result"
    }
   ],
   "source": [
    "[\"foo\", \"bar\", \"baz\"].index(\"bar\")"
   ]
  },
  {
   "cell_type": "code",
   "execution_count": null,
   "metadata": {},
   "outputs": [],
   "source": []
  }
 ],
 "metadata": {
  "kernelspec": {
   "display_name": "routing",
   "language": "python",
   "name": "python3"
  },
  "language_info": {
   "codemirror_mode": {
    "name": "ipython",
    "version": 3
   },
   "file_extension": ".py",
   "mimetype": "text/x-python",
   "name": "python",
   "nbconvert_exporter": "python",
   "pygments_lexer": "ipython3",
   "version": "3.9.16"
  }
 },
 "nbformat": 4,
 "nbformat_minor": 2
}
