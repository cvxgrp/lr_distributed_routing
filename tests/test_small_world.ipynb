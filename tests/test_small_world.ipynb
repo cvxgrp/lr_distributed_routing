{
 "cells": [
  {
   "cell_type": "code",
   "execution_count": 1,
   "id": "a81be589",
   "metadata": {},
   "outputs": [
    {
     "name": "stderr",
     "output_type": "stream",
     "text": [
      "/Users/parshakova.tanya/opt/anaconda3/envs/routing/lib/python3.9/site-packages/tqdm/auto.py:22: TqdmWarning: IProgress not found. Please update jupyter and ipywidgets. See https://ipywidgets.readthedocs.io/en/stable/user_install.html\n",
      "  from .autonotebook import tqdm as notebook_tqdm\n"
     ]
    }
   ],
   "source": [
    "import numpy as np\n",
    "import osmnx as ox\n",
    "import networkx as nx\n",
    "\n",
    "import seaborn as sns\n",
    "import matplotlib.pyplot as plt\n",
    "\n",
    "import random\n",
    "import pickle\n",
    "import pymde\n",
    "from scipy.sparse import coo_matrix, csr_matrix\n",
    "from scipy.sparse.linalg import spsolve, lsqr\n",
    "from scipy.linalg import solve_triangular, qr\n",
    "import scipy\n",
    "from sklearn.manifold import MDS, Isomap, TSNE, LocallyLinearEmbedding, SpectralEmbedding\n",
    "\n",
    "import mlrfit as mf\n",
    "import lrrouting as ldr\n",
    "import time, gc"
   ]
  },
  {
   "cell_type": "code",
   "execution_count": 2,
   "id": "4759ee57",
   "metadata": {},
   "outputs": [],
   "source": [
    "np.random.seed(1001)\n",
    "random.seed(1001)"
   ]
  },
  {
   "attachments": {},
   "cell_type": "markdown",
   "id": "573d6bef",
   "metadata": {},
   "source": [
    "#  Matrix definition"
   ]
  },
  {
   "cell_type": "code",
   "execution_count": 3,
   "id": "75f038c2",
   "metadata": {},
   "outputs": [
    {
     "name": "stdout",
     "output_type": "stream",
     "text": [
      "n=5000, G.number_of_edges()=20000\n",
      "[5000]\n",
      "n_cc = 5000, n0 = 5000\n",
      "in  degrees: {0: 0, 1: 0, 2: 0, 3: 98, 4: 4805, 5: 96, 6: 1}\n",
      "out degrees: {0: 0, 1: 0, 2: 0, 3: 98, 4: 4805, 5: 96, 6: 1}\n"
     ]
    }
   ],
   "source": [
    "rank = 4\n",
    "\n",
    "mtype = \"symm_small_world\"\n",
    "n = 5000\n",
    "\n",
    "G = nx.connected_watts_strogatz_graph(n, k=4, p=0.01)\n",
    "G.remove_edges_from(nx.selfloop_edges(G))\n",
    "n = G.number_of_nodes()\n",
    "G = G.to_directed()\n",
    "print(f\"{n=}, {G.number_of_edges()=}\")\n",
    "\n",
    "visited = []\n",
    "for u, v in G.edges():\n",
    "    if (u, v)in visited or (v, u) in visited: continue\n",
    "    G[u][v]['weight'] = np.random.rand() * 10\n",
    "    G[v][u]['weight'] = G[u][v]['weight']\n",
    "    visited += [(u,v)]\n",
    "del visited\n",
    "Adj, Dist = ldr.nx_graph_to_matrices(G)"
   ]
  },
  {
   "cell_type": "code",
   "execution_count": 4,
   "id": "aa2a0a42",
   "metadata": {},
   "outputs": [
    {
     "data": {
      "text/plain": [
       "(array([9.94020171e-04, 6.16068659e-03, 3.69170705e-03, 3.70299103e-04,\n",
       "        1.06776976e-05]),\n",
       " array([  0.        ,  89.06789071, 178.13578142, 267.20367213,\n",
       "        356.27156285, 445.33945356]))"
      ]
     },
     "execution_count": 4,
     "metadata": {},
     "output_type": "execute_result"
    }
   ],
   "source": [
    "# G_cc = G.subgraph(nodes_cc)\n",
    "# assert nx.is_strongly_connected(G_cc)\n",
    "np.histogram(Dist.flatten(), bins=5, density=True)"
   ]
  },
  {
   "cell_type": "code",
   "execution_count": 5,
   "id": "79fe1d0c",
   "metadata": {},
   "outputs": [],
   "source": [
    "# fig, ax = ox.plot_graph(G, bgcolor=\"#ffffff\", edge_color='k', edge_linewidth=0.2, node_color='k', node_size=2, figsize=(12, 12))"
   ]
  },
  {
   "cell_type": "code",
   "execution_count": 6,
   "id": "7d2013ca",
   "metadata": {},
   "outputs": [],
   "source": [
    "U, Vt, sigmas = mf.frob_low_rank(Dist)\n",
    "frob_losses = np.zeros(n)\n",
    "normalization = np.linalg.norm(Dist, ord='fro')\n",
    "# assert np.allclose(normalization, ((sigmas**2).sum())**0.5)\n",
    "sigmas2 = (sigmas**2)[::-1]\n",
    "frob_losses = np.concatenate([(np.cumsum(sigmas2)**0.5)[::-1][1:] / normalization, np.array([0])])"
   ]
  },
  {
   "cell_type": "code",
   "execution_count": 7,
   "id": "e0ebb240",
   "metadata": {},
   "outputs": [
    {
     "data": {
      "image/png": "[encoded data removed]",
      "text/plain": [
       "<Figure size 600x360 with 1 Axes>"
      ]
     },
     "metadata": {},
     "output_type": "display_data"
    }
   ],
   "source": [
    "mf.plot_frob_error_rank(frob_losses)"
   ]
  },
  {
   "cell_type": "code",
   "execution_count": 8,
   "id": "b6131e2a",
   "metadata": {},
   "outputs": [
    {
     "name": "stdout",
     "output_type": "stream",
     "text": [
      "graph is not directed\n"
     ]
    }
   ],
   "source": [
    "adjacency_list = ldr.adjacency_directed_list(Adj)\n",
    "sources, targets = ldr.st_pairs(n, Dist, 1020)\n",
    "M = min(1000, sources.size)\n",
    "sources = sources[:M]\n",
    "targets = targets[:M]"
   ]
  },
  {
   "cell_type": "code",
   "execution_count": 9,
   "id": "fcdae208",
   "metadata": {},
   "outputs": [],
   "source": [
    "del Adj, G"
   ]
  },
  {
   "cell_type": "code",
   "execution_count": 10,
   "id": "ba8d78f5",
   "metadata": {},
   "outputs": [
    {
     "name": "stdout",
     "output_type": "stream",
     "text": [
      "symm=True\n"
     ]
    }
   ],
   "source": [
    "PSD = False\n",
    "w_min = Dist[Dist>0].min()\n",
    "rt_max_iters = min(int(5*Dist.max()/w_min), (10**4) // 2)\n",
    "symm = np.allclose(Dist, Dist.T)\n",
    "print(f\"{symm=}\")\n",
    "filename = \"%s_r%d_%d\"%(mtype, rank, n)"
   ]
  },
  {
   "cell_type": "code",
   "execution_count": 11,
   "id": "c1d86399",
   "metadata": {},
   "outputs": [],
   "source": [
    "info = {} "
   ]
  },
  {
   "cell_type": "markdown",
   "id": "3e19a60a",
   "metadata": {},
   "source": [
    "# $\\sqrt{n}$ rows and columns sampled "
   ]
  },
  {
   "cell_type": "code",
   "execution_count": 12,
   "id": "41865aa4",
   "metadata": {},
   "outputs": [],
   "source": [
    "# percentage_of_nodes = 10\n",
    "# pi = np.random.permutation(n)[:int(n * percentage_of_nodes / 100.)]\n",
    "\n",
    "pi_rows = np.random.permutation(n)[:int(np.sqrt(n))]\n",
    "pi_cols = np.random.permutation(n)[:int(np.sqrt(n))]\n",
    "\n",
    "rDist = Dist[pi_rows]\n",
    "cDist = Dist[:, pi_cols].T\n",
    "\n",
    "pi_rows_c = np.delete(np.arange(n), pi_rows)\n",
    "pi_cols_c = np.delete(np.arange(n), pi_cols)"
   ]
  },
  {
   "cell_type": "markdown",
   "id": "5cc1f8c9",
   "metadata": {},
   "source": [
    "# Suboptimality vs rank"
   ]
  },
  {
   "cell_type": "code",
   "execution_count": 13,
   "id": "7332492d",
   "metadata": {},
   "outputs": [
    {
     "name": "stdout",
     "output_type": "stream",
     "text": [
      "\n",
      "rank=4\n"
     ]
    }
   ],
   "source": [
    "info = {}\n",
    "print(f\"\\n{rank=}\")"
   ]
  },
  {
   "cell_type": "code",
   "execution_count": 14,
   "id": "a74923ce",
   "metadata": {},
   "outputs": [],
   "source": [
    "cc_max_iter=1000\n",
    "cc_eps=1e-6\n",
    "n_init_cc=5\n",
    "cg_eps=1e-10\n",
    "cg_max_iter=100\n",
    "symm=True\n",
    "verbose=True\n",
    "freq=500"
   ]
  },
  {
   "cell_type": "code",
   "execution_count": 15,
   "id": "317f4ec4",
   "metadata": {},
   "outputs": [
    {
     "name": "stdout",
     "output_type": "stream",
     "text": [
      "\n",
      "\n",
      "Symmetric rank/2=2.0\n"
     ]
    },
    {
     "name": "stderr",
     "output_type": "stream",
     "text": [
      "OMP: Info #276: omp_set_nested routine deprecated, please use omp_set_max_active_levels instead.\n",
      "/Users/parshakova.tanya/Documents/projects/lr_distributed_routing/lrrouting/cg.py:48: NumbaPerformanceWarning: \u001b[1m\u001b[1m\u001b[1mnp.dot() is faster on contiguous arrays, called on (array(float64, 1d, A), array(float64, 1d, C))\u001b[0m\u001b[0m\u001b[0m\n",
      "  rho0 = np.dot(r, z)\n",
      "/Users/parshakova.tanya/Documents/projects/lr_distributed_routing/lrrouting/cg.py:72: NumbaPerformanceWarning: \u001b[1m\u001b[1m\u001b[1mnp.dot() is faster on contiguous arrays, called on (array(float64, 1d, A), array(float64, 1d, A))\u001b[0m\u001b[0m\u001b[0m\n",
      "  losses[k] = np.sqrt(np.dot(r, r)) / b_norm\n"
     ]
    },
    {
     "name": "stdout",
     "output_type": "stream",
     "text": [
      "t=0, loss=58422.35703247934\n",
      "456\n",
      "loss=3339.071331733662, np.diff(np.array(losses)).max()=0.0\n",
      "t=0, loss=58494.64159246595\n",
      "123\n",
      "loss=3159.6933868168258, np.diff(np.array(losses)).max()=0.0\n",
      "time=37.48, losses[0]=58494.64, losses[-1]=0.00, len(losses)=124\n",
      "Garbage collector: collected 37920 objects.\n",
      "$\\|x_i-x_j\\|_2$\n",
      "rows: m=47.26%, SD=5519.63%, M=13.73%, max=3223338.89%\n",
      "cols: m=84.70%, SD=682.92%, M=69.49%, max=262580.51%\n",
      "median_stretch=3351.7%, mean_stretch=3888.1%\n",
      "%[ratio<2] = 1.60%, %[ratio<1.2] = 0.20%, %[ratio=1.] = 0.20%\n",
      "\n",
      "Split -> asymmetric fit rank/2=2.0\n",
      "t=0, loss=14916.410191219355\n",
      "t=500, loss=2687.506248425535\n",
      "583\n",
      "loss=2687.1507177987355, np.diff(np.array(losses)).max()=0.0\n",
      "time=71.81, losses[0]=14916.41, losses[-1]=0.00, len(losses)=584\n",
      "Garbage collector: collected 68837 objects.\n",
      "$\\|x_i-y_j\\|_2$\n",
      "rows: m=47.30%, SD=5566.40%, M=13.54%, max=3249788.74%\n",
      "cols: m=32.15%, SD=486.67%, M=12.43%, max=149039.04%\n",
      "median_stretch=2546.3%, mean_stretch=2992.1%\n",
      "%[ratio<2] = 2.90%, %[ratio<1.2] = 1.20%, %[ratio=1.] = 0.40%\n",
      "Garbage collector: collected 10684 objects.\n"
     ]
    }
   ],
   "source": [
    "info = ldr.record_suboptimality(rank, pi_rows, pi_cols, pi_rows_c, pi_cols_c, rDist, cDist, adjacency_list, sources, targets, \n",
    "                           Dist, cc_max_iter=1000, n_init_cc=2, cg_eps=1e-8, cg_max_iter=200, verbose=True, freq=500)"
   ]
  },
  {
   "cell_type": "code",
   "execution_count": 16,
   "id": "299309c7",
   "metadata": {},
   "outputs": [
    {
     "data": {
      "text/plain": [
       "dict_keys(['symm', 'symm+asymm'])"
      ]
     },
     "execution_count": 16,
     "metadata": {},
     "output_type": "execute_result"
    }
   ],
   "source": [
    "info.keys() "
   ]
  },
  {
   "cell_type": "code",
   "execution_count": null,
   "id": "4aa6afc6",
   "metadata": {},
   "outputs": [],
   "source": []
  }
 ],
 "metadata": {
  "kernelspec": {
   "display_name": "Python 3 (ipykernel)",
   "language": "python",
   "name": "python3"
  },
  "language_info": {
   "codemirror_mode": {
    "name": "ipython",
    "version": 3
   },
   "file_extension": ".py",
   "mimetype": "text/x-python",
   "name": "python",
   "nbconvert_exporter": "python",
   "pygments_lexer": "ipython3",
   "version": "3.9.16"
  },
  "vscode": {
   "interpreter": {
    "hash": "cbb24b48ae2642bb0fe3c3a73dd180d2cf6b4e8df7de3f3850c06f8dd008ecd7"
   }
  }
 },
 "nbformat": 4,
 "nbformat_minor": 5
}
