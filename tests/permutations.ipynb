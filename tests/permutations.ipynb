{
 "cells": [
  {
   "cell_type": "code",
   "execution_count": 1,
   "metadata": {},
   "outputs": [],
   "source": [
    "import numpy as np"
   ]
  },
  {
   "cell_type": "code",
   "execution_count": 2,
   "metadata": {},
   "outputs": [],
   "source": [
    "# move entries on diagonal from the distribution\n",
    "\n",
    "n = 20\n",
    "a = np.random.randn(n, n) * 100"
   ]
  },
  {
   "cell_type": "code",
   "execution_count": 3,
   "metadata": {},
   "outputs": [
    {
     "name": "stdout",
     "output_type": "stream",
     "text": [
      "PASSED\n"
     ]
    }
   ],
   "source": [
    "for _ in range(20):\n",
    "    pi = np.random.permutation(n)[:5]\n",
    "    idx = np.arange(0, pi.size * n, n) + pi \n",
    "    assert (a[pi, pi] == a[pi, :].flatten()[idx]).all()\n",
    "\n",
    "    mask = ~np.isin(np.arange(n * pi.size), idx)\n",
    "    res = a[pi, :].flatten()[mask]\n",
    "\n",
    "    set_diff = set(a[pi, :].flatten()).difference(set(a[pi, pi].flatten()))\n",
    "    assert set(res) == set_diff\n",
    "    assert np.allclose(np.sort(res), np.sort(np.array(list(set_diff))))\n",
    "\n",
    "print(\"PASSED\")"
   ]
  },
  {
   "cell_type": "code",
   "execution_count": 4,
   "metadata": {},
   "outputs": [
    {
     "data": {
      "text/plain": [
       "array([136.53979309,  49.16023842,  57.36664992,  10.01724508,\n",
       "        44.99942632])"
      ]
     },
     "execution_count": 4,
     "metadata": {},
     "output_type": "execute_result"
    }
   ],
   "source": [
    "a[pi, pi]"
   ]
  },
  {
   "cell_type": "code",
   "execution_count": null,
   "metadata": {},
   "outputs": [],
   "source": []
  }
 ],
 "metadata": {
  "kernelspec": {
   "display_name": "routing",
   "language": "python",
   "name": "python3"
  },
  "language_info": {
   "codemirror_mode": {
    "name": "ipython",
    "version": 3
   },
   "file_extension": ".py",
   "mimetype": "text/x-python",
   "name": "python",
   "nbconvert_exporter": "python",
   "pygments_lexer": "ipython3",
   "version": "3.9.16"
  }
 },
 "nbformat": 4,
 "nbformat_minor": 2
}
