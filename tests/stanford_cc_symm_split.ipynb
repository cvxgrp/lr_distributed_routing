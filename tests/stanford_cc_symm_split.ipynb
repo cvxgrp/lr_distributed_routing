{
 "cells": [
  {
   "cell_type": "code",
   "execution_count": 1,
   "metadata": {},
   "outputs": [
    {
     "name": "stderr",
     "output_type": "stream",
     "text": [
      "/Users/parshakova.tanya/opt/anaconda3/envs/routing/lib/python3.9/site-packages/tqdm/auto.py:22: TqdmWarning: IProgress not found. Please update jupyter and ipywidgets. See https://ipywidgets.readthedocs.io/en/stable/user_install.html\n",
      "  from .autonotebook import tqdm as notebook_tqdm\n"
     ]
    }
   ],
   "source": [
    "import numpy as np\n",
    "import osmnx as ox\n",
    "import networkx as nx\n",
    "\n",
    "import seaborn as sns\n",
    "import matplotlib.pyplot as plt\n",
    "\n",
    "import random\n",
    "import pickle\n",
    "import pymde\n",
    "from sklearn.manifold import MDS, Isomap, TSNE, LocallyLinearEmbedding, SpectralEmbedding\n",
    "from scipy import sparse\n",
    "\n",
    "import mlrfit as mf\n",
    "import lrrouting as ldr\n",
    "\n",
    "import cvxpy as cp\n",
    "import numba as nb"
   ]
  },
  {
   "cell_type": "code",
   "execution_count": 2,
   "metadata": {},
   "outputs": [],
   "source": [
    "np.random.seed(1001)\n",
    "random.seed(1001)"
   ]
  },
  {
   "cell_type": "markdown",
   "metadata": {},
   "source": [
    "#  Matrix definition"
   ]
  },
  {
   "cell_type": "code",
   "execution_count": 3,
   "metadata": {},
   "outputs": [
    {
     "name": "stdout",
     "output_type": "stream",
     "text": [
      "[345]\n",
      "n_cc = 345, n0 = 345\n",
      "in  degrees: {0: 0, 1: 110, 2: 36, 3: 134, 4: 65}\n",
      "out degrees: {0: 0, 1: 108, 2: 40, 3: 132, 4: 65}\n",
      "345 45.0 1.0 844\n"
     ]
    }
   ],
   "source": [
    "rank = 6\n",
    "\n",
    "mtype = \"half_moon\" #\"stanford\"\n",
    "place = \"Half Moon Bay, CA, USA\"#\"Stanford, CA, USA\"\n",
    "G, Adj, Dist, nodes_cc = ldr.dist_matrix_osmnx(place, directed=True, nodes=True)\n",
    "\n",
    "A = Dist\n",
    "m = n = A.shape[0]\n",
    "diam_G = A.max()\n",
    "w_min = A[A>0].min()\n",
    "print(m, diam_G, w_min, (Adj>0).sum())"
   ]
  },
  {
   "cell_type": "code",
   "execution_count": 4,
   "metadata": {},
   "outputs": [
    {
     "data": {
      "text/plain": [
       "(array([0.0223025 , 0.04925763, 0.03059955, 0.00848468, 0.00046676]),\n",
       " array([ 0.,  9., 18., 27., 36., 45.]))"
      ]
     },
     "execution_count": 4,
     "metadata": {},
     "output_type": "execute_result"
    }
   ],
   "source": [
    "assert nx.is_strongly_connected(G)\n",
    "np.histogram(Dist.flatten(), bins=5, density=True)"
   ]
  },
  {
   "cell_type": "code",
   "execution_count": 5,
   "metadata": {},
   "outputs": [],
   "source": [
    "adjacency_list = ldr.adjacency_directed_list(Adj)\n",
    "sources, targets = ldr.st_pairs(n, Dist, 1020)\n",
    "M = min(1000, sources.size)\n",
    "sources = sources[:M]\n",
    "targets = targets[:M]"
   ]
  },
  {
   "cell_type": "code",
   "execution_count": 6,
   "metadata": {},
   "outputs": [
    {
     "name": "stdout",
     "output_type": "stream",
     "text": [
      "symm=False\n"
     ]
    }
   ],
   "source": [
    "PSD = False\n",
    "w_min = A[A>0].min()\n",
    "rt_max_iters = min(int(5*A.max()/w_min), (10**4) // 2)\n",
    "symm = np.allclose(A, A.T)\n",
    "print(f\"{symm=}\")\n",
    "filename = \"%s_r%d_%d\"%(mtype, rank, n)"
   ]
  },
  {
   "cell_type": "code",
   "execution_count": 7,
   "metadata": {},
   "outputs": [
    {
     "data": {
      "text/plain": [
       "(array([4.96445498, 0.        , 0.        , 0.        , 0.03554502]),\n",
       " array([1. , 1.2, 1.4, 1.6, 1.8, 2. ]))"
      ]
     },
     "execution_count": 7,
     "metadata": {},
     "output_type": "execute_result"
    }
   ],
   "source": [
    "np.histogram(Adj[Adj>0], bins=5, density=True)"
   ]
  },
  {
   "cell_type": "code",
   "execution_count": 8,
   "metadata": {},
   "outputs": [],
   "source": [
    "info = {} "
   ]
  },
  {
   "cell_type": "code",
   "execution_count": 9,
   "metadata": {},
   "outputs": [
    {
     "name": "stdout",
     "output_type": "stream",
     "text": [
      "PASSED\n"
     ]
    }
   ],
   "source": [
    "fraction_of_nodes = 0.1\n",
    "pi_rows = np.random.permutation(n)[:int(n * fraction_of_nodes)]\n",
    "pi_cols = pi_rows #np.random.permutation(n)[:int(n * fraction_of_nodes)]\n",
    "\n",
    "pi_row_Dist = ldr.sparse_sampled_matrix(pi_rows, Dist, rows=True)\n",
    "pi_col_Dist_T = ldr.sparse_sampled_matrix(pi_cols, Dist, rows=False)\n",
    "\n",
    "rDist = np.zeros((n, n))\n",
    "rDist[pi_rows] = Dist[pi_rows]\n",
    "assert np.allclose(pi_row_Dist.toarray(), rDist)\n",
    "\n",
    "cDist = np.zeros((n, n))\n",
    "cDist[:, pi_cols] = Dist[:, pi_cols]\n",
    "assert np.allclose(pi_col_Dist_T.T.toarray(), cDist)\n",
    "print(\"PASSED\")\n",
    "\n",
    "rDist = Dist[pi_rows]\n",
    "cDist = Dist[:, pi_cols].T\n",
    "\n",
    "pi_rows_c = np.delete(np.arange(n), pi_rows)\n",
    "pi_cols_c = np.delete(np.arange(n), pi_cols)"
   ]
  },
  {
   "cell_type": "code",
   "execution_count": null,
   "metadata": {},
   "outputs": [],
   "source": []
  },
  {
   "cell_type": "code",
   "execution_count": 10,
   "metadata": {},
   "outputs": [
    {
     "name": "stdout",
     "output_type": "stream",
     "text": [
      "\n",
      "\n",
      "Symmetric fit -> split -> asymmetric fit\n"
     ]
    },
    {
     "name": "stderr",
     "output_type": "stream",
     "text": [
      "OMP: Info #276: omp_set_nested routine deprecated, please use omp_set_max_active_levels instead.\n",
      "/Users/parshakova.tanya/Documents/projects/lr_distributed_routing/lrrouting/cg.py:48: NumbaPerformanceWarning: \u001b[1m\u001b[1m\u001b[1mnp.dot() is faster on contiguous arrays, called on (array(float64, 1d, A), array(float64, 1d, C))\u001b[0m\u001b[0m\u001b[0m\n",
      "  rho0 = np.dot(r, z)\n",
      "/Users/parshakova.tanya/Documents/projects/lr_distributed_routing/lrrouting/cg.py:72: NumbaPerformanceWarning: \u001b[1m\u001b[1m\u001b[1mnp.dot() is faster on contiguous arrays, called on (array(float64, 1d, A), array(float64, 1d, A))\u001b[0m\u001b[0m\u001b[0m\n",
      "  losses[k] = np.sqrt(np.dot(r, r)) / b_norm\n"
     ]
    },
    {
     "name": "stdout",
     "output_type": "stream",
     "text": [
      "\n",
      "rank/2=2.0, losses[0]=467.18218703841916, losses[-1]=0.0\n",
      "median_stretch=120.0%, mean_stretch=191.3%\n",
      "%[ratio<2] = 78.50%, %[ratio<1.2] = 50.10%, %[ratio=1.] = 36.80%\n",
      "\n",
      "rank=4, losses[0]=11.817793557438698, losses[-1]=0.0\n",
      "$\\|x_i-y_j\\|_2$\n",
      "median_stretch=163.6%, mean_stretch=234.1%\n",
      "%[ratio<2] = 61.80%, %[ratio<1.2] = 31.70%, %[ratio=1.] = 22.90%\n",
      "\n",
      "\n",
      "Asymmetric fit\n",
      "\n",
      "rank=4, losses[0]=445.2723753172062, losses[-1]=0.0\n",
      "$\\|x_i-y_j\\|_2$\n",
      "median_stretch=162.5%, mean_stretch=258.5%\n",
      "%[ratio<2] = 60.60%, %[ratio<1.2] = 30.30%, %[ratio=1.] = 17.50%\n",
      "$\\|x_i-x_j\\|_2$\n",
      "median_stretch=160.0%, mean_stretch=215.8%\n",
      "%[ratio<2] = 67.10%, %[ratio<1.2] = 23.00%, %[ratio=1.] = 16.10%\n",
      "$\\|y_i-y_j\\|_2$\n",
      "median_stretch=192.2%, mean_stretch=246.1%\n",
      "%[ratio<2] = 54.50%, %[ratio<1.2] = 14.90%, %[ratio=1.] = 9.80%\n",
      "\n",
      "\n",
      "Symmetric fit -> split -> asymmetric fit\n",
      "\n",
      "rank/2=4.0, losses[0]=423.3294465846347, losses[-1]=2.129159674165943\n",
      "median_stretch=100.0%, mean_stretch=121.4%\n",
      "%[ratio<2] = 95.60%, %[ratio<1.2] = 76.20%, %[ratio=1.] = 57.00%\n",
      "\n",
      "rank=8, losses[0]=4.046837519860201, losses[-1]=1.897223386055087\n",
      "$\\|x_i-y_j\\|_2$\n",
      "median_stretch=100.0%, mean_stretch=113.4%\n",
      "%[ratio<2] = 97.90%, %[ratio<1.2] = 82.70%, %[ratio=1.] = 62.20%\n",
      "\n",
      "\n",
      "Asymmetric fit\n",
      "\n",
      "rank=8, losses[0]=398.0506618299925, losses[-1]=2.123625065490671\n",
      "$\\|x_i-y_j\\|_2$\n",
      "median_stretch=100.0%, mean_stretch=115.3%\n",
      "%[ratio<2] = 97.90%, %[ratio<1.2] = 84.40%, %[ratio=1.] = 58.80%\n",
      "$\\|x_i-x_j\\|_2$\n",
      "median_stretch=100.0%, mean_stretch=127.5%\n",
      "%[ratio<2] = 93.80%, %[ratio<1.2] = 77.50%, %[ratio=1.] = 55.40%\n",
      "$\\|y_i-y_j\\|_2$\n",
      "median_stretch=120.7%, mean_stretch=144.0%\n",
      "%[ratio<2] = 89.50%, %[ratio<1.2] = 49.90%, %[ratio=1.] = 32.00%\n",
      "\n",
      "\n",
      "Symmetric fit -> split -> asymmetric fit\n",
      "\n",
      "rank/2=8.0, losses[0]=361.7954305556922, losses[-1]=0.6909084840859043\n",
      "median_stretch=100.0%, mean_stretch=106.2%\n",
      "%[ratio<2] = 99.10%, %[ratio<1.2] = 93.60%, %[ratio=1.] = 76.80%\n",
      "\n",
      "rank=16, losses[0]=2.7574114571536747, losses[-1]=0.8000801450029715\n",
      "$\\|x_i-y_j\\|_2$\n",
      "median_stretch=100.0%, mean_stretch=104.9%\n",
      "%[ratio<2] = 99.70%, %[ratio<1.2] = 93.30%, %[ratio=1.] = 75.00%\n",
      "\n",
      "\n",
      "Asymmetric fit\n",
      "\n",
      "rank=16, losses[0]=346.52536650673073, losses[-1]=0.8397978406966132\n",
      "$\\|x_i-y_j\\|_2$\n",
      "median_stretch=100.0%, mean_stretch=107.4%\n",
      "%[ratio<2] = 99.30%, %[ratio<1.2] = 89.70%, %[ratio=1.] = 70.20%\n",
      "$\\|x_i-x_j\\|_2$\n",
      "median_stretch=100.0%, mean_stretch=105.9%\n",
      "%[ratio<2] = 99.60%, %[ratio<1.2] = 92.40%, %[ratio=1.] = 70.60%\n",
      "$\\|y_i-y_j\\|_2$\n",
      "median_stretch=110.0%, mean_stretch=136.2%\n",
      "%[ratio<2] = 90.30%, %[ratio<1.2] = 61.90%, %[ratio=1.] = 42.90%\n",
      "\n",
      "\n",
      "Symmetric fit -> split -> asymmetric fit\n",
      "\n",
      "rank/2=10.0, losses[0]=343.8618556306099, losses[-1]=0.5449075512156434\n",
      "median_stretch=100.0%, mean_stretch=104.9%\n",
      "%[ratio<2] = 99.30%, %[ratio<1.2] = 93.90%, %[ratio=1.] = 79.80%\n",
      "\n",
      "rank=20, losses[0]=2.6252062251144546, losses[-1]=0.0\n",
      "$\\|x_i-y_j\\|_2$\n",
      "median_stretch=100.0%, mean_stretch=104.7%\n",
      "%[ratio<2] = 99.70%, %[ratio<1.2] = 93.50%, %[ratio=1.] = 74.90%\n",
      "\n",
      "\n",
      "Asymmetric fit\n",
      "\n",
      "rank=20, losses[0]=321.4881316732652, losses[-1]=0.6990954812575105\n",
      "$\\|x_i-y_j\\|_2$\n",
      "median_stretch=100.0%, mean_stretch=106.4%\n",
      "%[ratio<2] = 99.60%, %[ratio<1.2] = 92.20%, %[ratio=1.] = 72.00%\n",
      "$\\|x_i-x_j\\|_2$\n",
      "median_stretch=100.0%, mean_stretch=104.9%\n",
      "%[ratio<2] = 99.80%, %[ratio<1.2] = 92.80%, %[ratio=1.] = 75.30%\n",
      "$\\|y_i-y_j\\|_2$\n",
      "median_stretch=105.3%, mean_stretch=130.0%\n",
      "%[ratio<2] = 91.80%, %[ratio<1.2] = 66.00%, %[ratio=1.] = 49.20%\n"
     ]
    }
   ],
   "source": [
    "for rank in [4, 8, 16, 20]:\n",
    "    print(\"\\n\\nSymmetric fit -> split -> asymmetric fit\")\n",
    "    # get symmetric embedding\n",
    "    Z_symm, loss, losses = ldr.fast_cc(rank//2, pi_rows=pi_rows, pi_rows_c=pi_rows_c, rDist=(rDist+cDist)/2, symm=True, n_init=5,\n",
    "                                        max_iter=1000, eps=1e-6, verbose=False, freq=500)\n",
    "    print(f\"\\n{rank/2=}, {losses[0]=}, {losses[-1]=}\")\n",
    "    # split and fit asymmetric embedding\n",
    "    l_dar = ldr.construct_node_embedding_graph(Z_symm, adjacency_list)\n",
    "    _ = {'ratios' : ldr.subopt_ratios(l_dar, Dist, sources, targets)}\n",
    "    Z0 = np.concatenate([Z_symm, Z_symm], axis=0)\n",
    "    Z, loss, losses = ldr.fast_cc(rank, pi_rows, pi_cols, pi_rows_c, pi_cols_c, rDist, cDist, Z0=Z0, n_init=2,\n",
    "                                    max_iter=1000, eps=1e-6, verbose=False, freq=200)\n",
    "    print(f\"\\n{rank=}, {losses[0]=}, {losses[-1]=}\")\n",
    "    print(r\"$\\|x_i-y_j\\|_2$\")\n",
    "    l_dar = ldr.construct_xy_node_embedding_graph(Z[:n], Z[n:], adjacency_list)\n",
    "    _ = {'ratios' : ldr.subopt_ratios(l_dar, Dist, sources, targets)}\n",
    "\n",
    "\n",
    "    print(\"\\n\\nAsymmetric fit\")\n",
    "    Z, loss, losses = ldr.fast_cc(rank, pi_rows, pi_cols, pi_rows_c, pi_cols_c, rDist, cDist, n_init=2, \n",
    "                                  max_iter=1000, eps=1e-6, verbose=False, freq=500)\n",
    "    print(f\"\\n{rank=}, {losses[0]=}, {losses[-1]=}\")\n",
    "    print(r\"$\\|x_i-y_j\\|_2$\")\n",
    "    l_dar = ldr.construct_xy_node_embedding_graph(Z[:n], Z[n:], adjacency_list)\n",
    "    _ = {'ratios' : ldr.subopt_ratios(l_dar, Dist, sources, targets)}\n",
    "    print(r\"$\\|x_i-x_j\\|_2$\")\n",
    "    l_dar = ldr.construct_node_embedding_graph(Z[:n], adjacency_list)\n",
    "    _ = {'ratios' : ldr.subopt_ratios(l_dar, Dist, sources, targets)}\n",
    "    print(r\"$\\|y_i-y_j\\|_2$\")\n",
    "    l_dar = ldr.construct_node_embedding_graph(Z[n:], adjacency_list)\n",
    "    _ = {'ratios' : ldr.subopt_ratios(l_dar, Dist, sources, targets)}"
   ]
  },
  {
   "cell_type": "code",
   "execution_count": 11,
   "metadata": {},
   "outputs": [
    {
     "data": {
      "text/plain": [
       "0.1238628157246641"
      ]
     },
     "execution_count": 11,
     "metadata": {},
     "output_type": "execute_result"
    }
   ],
   "source": [
    "mf.rel_diff(Dist, Dist.T)"
   ]
  },
  {
   "cell_type": "code",
   "execution_count": 12,
   "metadata": {},
   "outputs": [
    {
     "name": "stdout",
     "output_type": "stream",
     "text": [
      "\n",
      "\n",
      "Symmetric fit -> split -> asymmetric fit\n",
      "\n",
      "rank/2=2.0, losses[0]=462.2327196719228, losses[-1]=0.0\n",
      "median_stretch=157.1%, mean_stretch=237.0%\n",
      "%[ratio<2] = 62.80%, %[ratio<1.2] = 24.70%, %[ratio=1.] = 12.90%\n",
      "\n",
      "rank=4, losses[0]=12.871487702449661, losses[-1]=0.0\n",
      "$\\|x_i-y_j\\|_2$\n",
      "median_stretch=147.2%, mean_stretch=229.5%\n",
      "%[ratio<2] = 65.20%, %[ratio<1.2] = 36.30%, %[ratio=1.] = 22.30%\n",
      "\n",
      "\n",
      "Asymmetric fit\n",
      "\n",
      "rank=4, losses[0]=440.12489830985993, losses[-1]=0.0\n",
      "$\\|x_i-y_j\\|_2$\n",
      "median_stretch=127.3%, mean_stretch=219.9%\n",
      "%[ratio<2] = 67.10%, %[ratio<1.2] = 45.10%, %[ratio=1.] = 32.30%\n",
      "$\\|x_i-x_j\\|_2$\n",
      "median_stretch=120.9%, mean_stretch=195.1%\n",
      "%[ratio<2] = 74.50%, %[ratio<1.2] = 49.90%, %[ratio=1.] = 39.30%\n",
      "$\\|y_i-y_j\\|_2$\n",
      "median_stretch=180.0%, mean_stretch=245.4%\n",
      "%[ratio<2] = 59.80%, %[ratio<1.2] = 23.40%, %[ratio=1.] = 16.40%\n",
      "\n",
      "\n",
      "Symmetric fit -> split -> asymmetric fit\n",
      "\n",
      "rank/2=4.0, losses[0]=416.9441193563446, losses[-1]=2.410265406946407\n",
      "median_stretch=114.6%, mean_stretch=142.6%\n",
      "%[ratio<2] = 89.40%, %[ratio<1.2] = 56.50%, %[ratio=1.] = 36.10%\n",
      "\n",
      "rank=8, losses[0]=6.134966220816185, losses[-1]=0.0\n",
      "$\\|x_i-y_j\\|_2$\n",
      "median_stretch=100.0%, mean_stretch=116.3%\n",
      "%[ratio<2] = 97.80%, %[ratio<1.2] = 80.10%, %[ratio=1.] = 55.90%\n",
      "\n",
      "\n",
      "Asymmetric fit\n",
      "\n",
      "rank=8, losses[0]=405.1141603565855, losses[-1]=1.8967749627467123\n",
      "$\\|x_i-y_j\\|_2$\n",
      "median_stretch=100.0%, mean_stretch=114.9%\n",
      "%[ratio<2] = 98.30%, %[ratio<1.2] = 81.50%, %[ratio=1.] = 61.80%\n",
      "$\\|x_i-x_j\\|_2$\n",
      "median_stretch=100.0%, mean_stretch=124.7%\n",
      "%[ratio<2] = 95.00%, %[ratio<1.2] = 76.40%, %[ratio=1.] = 52.80%\n",
      "$\\|y_i-y_j\\|_2$\n",
      "median_stretch=120.0%, mean_stretch=143.8%\n",
      "%[ratio<2] = 89.80%, %[ratio<1.2] = 50.10%, %[ratio=1.] = 31.60%\n",
      "\n",
      "\n",
      "Symmetric fit -> split -> asymmetric fit\n",
      "\n",
      "rank/2=8.0, losses[0]=357.03440048638157, losses[-1]=1.1530819857484538\n",
      "median_stretch=100.0%, mean_stretch=133.6%\n",
      "%[ratio<2] = 91.40%, %[ratio<1.2] = 70.50%, %[ratio=1.] = 53.10%\n",
      "\n",
      "rank=16, losses[0]=4.834344443712099, losses[-1]=0.7982324279583687\n",
      "$\\|x_i-y_j\\|_2$\n",
      "median_stretch=100.0%, mean_stretch=105.1%\n",
      "%[ratio<2] = 99.80%, %[ratio<1.2] = 92.90%, %[ratio=1.] = 73.70%\n",
      "\n",
      "\n",
      "Asymmetric fit\n",
      "\n",
      "rank=16, losses[0]=341.46208457805807, losses[-1]=0.8132123582077044\n",
      "$\\|x_i-y_j\\|_2$\n",
      "median_stretch=100.0%, mean_stretch=106.1%\n",
      "%[ratio<2] = 99.40%, %[ratio<1.2] = 92.10%, %[ratio=1.] = 73.00%\n",
      "$\\|x_i-x_j\\|_2$\n",
      "median_stretch=100.0%, mean_stretch=105.8%\n",
      "%[ratio<2] = 99.90%, %[ratio<1.2] = 92.20%, %[ratio=1.] = 71.40%\n",
      "$\\|y_i-y_j\\|_2$\n",
      "median_stretch=110.6%, mean_stretch=135.7%\n",
      "%[ratio<2] = 91.20%, %[ratio<1.2] = 61.10%, %[ratio=1.] = 40.80%\n",
      "\n",
      "\n",
      "Symmetric fit -> split -> asymmetric fit\n",
      "\n",
      "rank/2=10.0, losses[0]=340.05143831104425, losses[-1]=1.034458961850947\n",
      "median_stretch=100.0%, mean_stretch=132.3%\n",
      "%[ratio<2] = 91.20%, %[ratio<1.2] = 72.50%, %[ratio=1.] = 54.00%\n",
      "\n",
      "rank=20, losses[0]=4.693907694744875, losses[-1]=0.0\n",
      "$\\|x_i-y_j\\|_2$\n",
      "median_stretch=100.0%, mean_stretch=104.6%\n",
      "%[ratio<2] = 99.80%, %[ratio<1.2] = 93.70%, %[ratio=1.] = 75.10%\n",
      "\n",
      "\n",
      "Asymmetric fit\n",
      "\n",
      "rank=20, losses[0]=324.2155288049161, losses[-1]=0.6988607501007063\n",
      "$\\|x_i-y_j\\|_2$\n",
      "median_stretch=100.0%, mean_stretch=105.6%\n",
      "%[ratio<2] = 99.60%, %[ratio<1.2] = 92.20%, %[ratio=1.] = 73.80%\n",
      "$\\|x_i-x_j\\|_2$\n",
      "median_stretch=100.0%, mean_stretch=104.7%\n",
      "%[ratio<2] = 99.90%, %[ratio<1.2] = 93.50%, %[ratio=1.] = 73.90%\n",
      "$\\|y_i-y_j\\|_2$\n",
      "median_stretch=110.5%, mean_stretch=133.7%\n",
      "%[ratio<2] = 91.30%, %[ratio<1.2] = 62.00%, %[ratio=1.] = 43.00%\n"
     ]
    }
   ],
   "source": [
    "for rank in [4, 8, 16, 20]:\n",
    "    print(\"\\n\\nSymmetric fit -> split -> asymmetric fit\")\n",
    "    # get symmetric embedding\n",
    "    Z_symm, loss, losses = ldr.fast_cc(rank//2, pi_rows=pi_rows, pi_rows_c=pi_rows_c, rDist=rDist, symm=True, n_init=5,\n",
    "                                        max_iter=1000, eps=1e-6, verbose=False, freq=500)\n",
    "    print(f\"\\n{rank/2=}, {losses[0]=}, {losses[-1]=}\")\n",
    "    # split and fit asymmetric embedding\n",
    "    l_dar = ldr.construct_node_embedding_graph(Z_symm, adjacency_list)\n",
    "    _ = {'ratios' : ldr.subopt_ratios(l_dar, Dist, sources, targets)}\n",
    "    Z0 = np.concatenate([Z_symm, Z_symm], axis=0)\n",
    "    Z, loss, losses = ldr.fast_cc(rank, pi_rows, pi_cols, pi_rows_c, pi_cols_c, rDist, cDist, Z0=Z0, n_init=2,\n",
    "                                    max_iter=1000, eps=1e-6, verbose=False, freq=200)\n",
    "    print(f\"\\n{rank=}, {losses[0]=}, {losses[-1]=}\")\n",
    "    print(r\"$\\|x_i-y_j\\|_2$\")\n",
    "    l_dar = ldr.construct_xy_node_embedding_graph(Z[:n], Z[n:], adjacency_list)\n",
    "    _ = {'ratios' : ldr.subopt_ratios(l_dar, Dist, sources, targets)}\n",
    "\n",
    "\n",
    "    print(\"\\n\\nAsymmetric fit\")\n",
    "    Z, loss, losses = ldr.fast_cc(rank, pi_rows, pi_cols, pi_rows_c, pi_cols_c, rDist, cDist, n_init=2, \n",
    "                                  max_iter=1000, eps=1e-6, verbose=False, freq=500)\n",
    "    print(f\"\\n{rank=}, {losses[0]=}, {losses[-1]=}\")\n",
    "    print(r\"$\\|x_i-y_j\\|_2$\")\n",
    "    l_dar = ldr.construct_xy_node_embedding_graph(Z[:n], Z[n:], adjacency_list)\n",
    "    _ = {'ratios' : ldr.subopt_ratios(l_dar, Dist, sources, targets)}\n",
    "    print(r\"$\\|x_i-x_j\\|_2$\")\n",
    "    l_dar = ldr.construct_node_embedding_graph(Z[:n], adjacency_list)\n",
    "    _ = {'ratios' : ldr.subopt_ratios(l_dar, Dist, sources, targets)}\n",
    "    print(r\"$\\|y_i-y_j\\|_2$\")\n",
    "    l_dar = ldr.construct_node_embedding_graph(Z[n:], adjacency_list)\n",
    "    _ = {'ratios' : ldr.subopt_ratios(l_dar, Dist, sources, targets)}"
   ]
  },
  {
   "cell_type": "code",
   "execution_count": null,
   "metadata": {},
   "outputs": [],
   "source": []
  }
 ],
 "metadata": {
  "kernelspec": {
   "display_name": "routing",
   "language": "python",
   "name": "python3"
  },
  "language_info": {
   "codemirror_mode": {
    "name": "ipython",
    "version": 3
   },
   "file_extension": ".py",
   "mimetype": "text/x-python",
   "name": "python",
   "nbconvert_exporter": "python",
   "pygments_lexer": "ipython3",
   "version": "3.9.16"
  }
 },
 "nbformat": 4,
 "nbformat_minor": 2
}
